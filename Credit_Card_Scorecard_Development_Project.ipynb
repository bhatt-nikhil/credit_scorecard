{
 "cells": [
  {
   "cell_type": "markdown",
   "id": "2363a791",
   "metadata": {},
   "source": [
    "### Building a Credit Scorecard using open source tool (TOAD) with LR and comparision with GBDT"
   ]
  },
  {
   "cell_type": "markdown",
   "id": "eeabeeb3",
   "metadata": {},
   "source": [
    "Applications:\n",
    "1. Evaluating a transaction or customer's credibility to perform further actions such as issuing a credit card or giving a balance transfer offer for high-credit customers in a credit card company.\n",
    "2. Giving promotions or premium rights to high-value customers in an e-commerce platform.\n",
    "3. Providing good customer segmentation to reach the right people in a marketing firm."
   ]
  },
  {
   "cell_type": "markdown",
   "id": "b435498e",
   "metadata": {},
   "source": [
    "### Dataset:-"
   ]
  },
  {
   "cell_type": "markdown",
   "id": "2c1abf34",
   "metadata": {},
   "source": [
    "Dataset downloaded from Kaggle, contains information on default payments, demographic factors, credit data, history of payment, and bill statements of credit card clients in Taiwan from April 2005 to September 2005."
   ]
  },
  {
   "cell_type": "raw",
   "id": "673f1be9",
   "metadata": {},
   "source": [
    "There are 25 variables in the dataset -\n",
    "\n",
    "ID: ID of each client\n",
    "LIMIT_BAL: Amount of given credit in NT dollars (includes individual and family/supplementary credit\n",
    "SEX: Gender (1=male, 2=female)\n",
    "EDUCATION: (1=graduate school, 2=university, 3=high school, 4=others, 5=unknown, 6=unknown)\n",
    "MARRIAGE: Marital status (1=married, 2=single, 3=others)\n",
    "AGE: Age in years\n",
    "PAY_0: Repayment status in September, 2005 (-1=pay duly, 1=payment delay for one month, 2=payment delay for two months, … 8=payment delay for eight months, 9=payment delay for nine months and above)\n",
    "PAY_2: Repayment status in August, 2005 (scale same as above)\n",
    "PAY_3: Repayment status in July, 2005 (scale same as above)\n",
    "PAY_4: Repayment status in June, 2005 (scale same as above)\n",
    "PAY_5: Repayment status in May, 2005 (scale same as above)\n",
    "PAY_6: Repayment status in April, 2005 (scale same as above)\n",
    "BILL_AMT1: Amount of bill statement in September, 2005 (NT dollar)\n",
    "BILL_AMT2: Amount of bill statement in August, 2005 (NT dollar)\n",
    "BILL_AMT3: Amount of bill statement in July, 2005 (NT dollar)\n",
    "BILL_AMT4: Amount of bill statement in June, 2005 (NT dollar)\n",
    "BILL_AMT5: Amount of bill statement in May, 2005 (NT dollar)\n",
    "BILL_AMT6: Amount of bill statement in April, 2005 (NT dollar)\n",
    "PAY_AMT1: Amount of previous payment in September, 2005 (NT dollar)\n",
    "PAY_AMT2: Amount of previous payment in August, 2005 (NT dollar)\n",
    "PAY_AMT3: Amount of previous payment in July, 2005 (NT dollar)\n",
    "PAY_AMT4: Amount of previous payment in June, 2005 (NT dollar)\n",
    "PAY_AMT5: Amount of previous payment in May, 2005 (NT dollar)\n",
    "PAY_AMT6: Amount of previous payment in April, 2005 (NT dollar)\n",
    "default.payment.next.month: Default payment (1=yes, 0=no)"
   ]
  },
  {
   "cell_type": "markdown",
   "id": "2a7a8b92",
   "metadata": {},
   "source": [
    "## Problem Statement:-"
   ]
  },
  {
   "cell_type": "markdown",
   "id": "ddbdc1c4",
   "metadata": {},
   "source": [
    "#### Manager told to build a scorecard system for existing customers, to send them some balance transfer offers (such as 6 months with 0 % APR + 3% fees.\n",
    "#### We have historical data about these customers. We don't want to send to the ones who constantly default because, they will probably take the money and run away. Company will not be able to collect these transfer balances after 6 months, and this will become a loss for the company."
   ]
  },
  {
   "cell_type": "code",
   "execution_count": 1,
   "id": "12c20f93",
   "metadata": {},
   "outputs": [
    {
     "name": "stderr",
     "output_type": "stream",
     "text": [
      "/Users/nikhil__bhatt/anaconda3/lib/python3.11/site-packages/_distutils_hack/__init__.py:33: UserWarning: Setuptools is replacing distutils.\n",
      "  warnings.warn(\"Setuptools is replacing distutils.\")\n"
     ]
    }
   ],
   "source": [
    "# Installing and importing packages -\n",
    "\n",
    "import pkg_resources\n",
    "import pip\n",
    "installedPackages = {pkg.key for pkg in pkg_resources.working_set}\n",
    "required = {'pandas','numpy','matplotlib','seaborn','toad','scikit-learn'}\n",
    "missing = required - installedPackages\n",
    "if missing:\n",
    "    !pip install pandas\n",
    "    !pip install numpy\n",
    "    !pip install matplotlib\n",
    "    !pip install seaborn\n",
    "    !pip install toad\n",
    "    !pip install scikit-learn"
   ]
  },
  {
   "cell_type": "code",
   "execution_count": 2,
   "id": "36bda6e7",
   "metadata": {},
   "outputs": [],
   "source": [
    "import pandas as pd\n",
    "import sklearn\n",
    "from sklearn.metrics import roc_auc_score,roc_curve,auc,precision_recall_curve\n",
    "from sklearn.model_selection import train_test_split\n",
    "from sklearn.linear_model import LogisticRegression\n",
    "from sklearn.ensemble import GradientBoostingClassifier\n",
    "\n",
    "import numpy as np\n",
    "import glob\n",
    "import math\n",
    "import seaborn as sns\n",
    "import matplotlib.pyplot as plt\n",
    "import toad\n",
    "import pickle"
   ]
  },
  {
   "cell_type": "markdown",
   "id": "eb4bde21",
   "metadata": {},
   "source": [
    "### Data Loading and Processing -"
   ]
  },
  {
   "cell_type": "code",
   "execution_count": 3,
   "id": "69cc6e5c",
   "metadata": {},
   "outputs": [],
   "source": [
    "# Reading the input file -\n",
    "data = pd.read_csv('UCI_Credit_Card.csv')"
   ]
  },
  {
   "cell_type": "code",
   "execution_count": 4,
   "id": "a166f864",
   "metadata": {},
   "outputs": [
    {
     "data": {
      "text/plain": [
       "ID                              int64\n",
       "LIMIT_BAL                     float64\n",
       "SEX                             int64\n",
       "EDUCATION                       int64\n",
       "MARRIAGE                        int64\n",
       "AGE                             int64\n",
       "PAY_0                           int64\n",
       "PAY_2                           int64\n",
       "PAY_3                           int64\n",
       "PAY_4                           int64\n",
       "PAY_5                           int64\n",
       "PAY_6                           int64\n",
       "BILL_AMT1                     float64\n",
       "BILL_AMT2                     float64\n",
       "BILL_AMT3                     float64\n",
       "BILL_AMT4                     float64\n",
       "BILL_AMT5                     float64\n",
       "BILL_AMT6                     float64\n",
       "PAY_AMT1                      float64\n",
       "PAY_AMT2                      float64\n",
       "PAY_AMT3                      float64\n",
       "PAY_AMT4                      float64\n",
       "PAY_AMT5                      float64\n",
       "PAY_AMT6                      float64\n",
       "default.payment.next.month      int64\n",
       "dtype: object"
      ]
     },
     "execution_count": 4,
     "metadata": {},
     "output_type": "execute_result"
    }
   ],
   "source": [
    "# Checking the variables and their datatypes -\n",
    "data.dtypes"
   ]
  },
  {
   "cell_type": "code",
   "execution_count": 5,
   "id": "a0b95765",
   "metadata": {},
   "outputs": [
    {
     "data": {
      "text/plain": [
       "(30000, 25)"
      ]
     },
     "execution_count": 5,
     "metadata": {},
     "output_type": "execute_result"
    }
   ],
   "source": [
    "# Checking the size of the data - \n",
    "data.shape"
   ]
  },
  {
   "cell_type": "code",
   "execution_count": 6,
   "id": "3b182bbb",
   "metadata": {},
   "outputs": [
    {
     "data": {
      "text/html": [
       "<div>\n",
       "<style scoped>\n",
       "    .dataframe tbody tr th:only-of-type {\n",
       "        vertical-align: middle;\n",
       "    }\n",
       "\n",
       "    .dataframe tbody tr th {\n",
       "        vertical-align: top;\n",
       "    }\n",
       "\n",
       "    .dataframe thead th {\n",
       "        text-align: right;\n",
       "    }\n",
       "</style>\n",
       "<table border=\"1\" class=\"dataframe\">\n",
       "  <thead>\n",
       "    <tr style=\"text-align: right;\">\n",
       "      <th></th>\n",
       "      <th>ID</th>\n",
       "      <th>LIMIT_BAL</th>\n",
       "      <th>SEX</th>\n",
       "      <th>EDUCATION</th>\n",
       "      <th>MARRIAGE</th>\n",
       "      <th>AGE</th>\n",
       "      <th>PAY_0</th>\n",
       "      <th>PAY_2</th>\n",
       "      <th>PAY_3</th>\n",
       "      <th>PAY_4</th>\n",
       "      <th>...</th>\n",
       "      <th>BILL_AMT4</th>\n",
       "      <th>BILL_AMT5</th>\n",
       "      <th>BILL_AMT6</th>\n",
       "      <th>PAY_AMT1</th>\n",
       "      <th>PAY_AMT2</th>\n",
       "      <th>PAY_AMT3</th>\n",
       "      <th>PAY_AMT4</th>\n",
       "      <th>PAY_AMT5</th>\n",
       "      <th>PAY_AMT6</th>\n",
       "      <th>default.payment.next.month</th>\n",
       "    </tr>\n",
       "  </thead>\n",
       "  <tbody>\n",
       "    <tr>\n",
       "      <th>0</th>\n",
       "      <td>1</td>\n",
       "      <td>20000.0</td>\n",
       "      <td>2</td>\n",
       "      <td>2</td>\n",
       "      <td>1</td>\n",
       "      <td>24</td>\n",
       "      <td>2</td>\n",
       "      <td>2</td>\n",
       "      <td>-1</td>\n",
       "      <td>-1</td>\n",
       "      <td>...</td>\n",
       "      <td>0.0</td>\n",
       "      <td>0.0</td>\n",
       "      <td>0.0</td>\n",
       "      <td>0.0</td>\n",
       "      <td>689.0</td>\n",
       "      <td>0.0</td>\n",
       "      <td>0.0</td>\n",
       "      <td>0.0</td>\n",
       "      <td>0.0</td>\n",
       "      <td>1</td>\n",
       "    </tr>\n",
       "    <tr>\n",
       "      <th>1</th>\n",
       "      <td>2</td>\n",
       "      <td>120000.0</td>\n",
       "      <td>2</td>\n",
       "      <td>2</td>\n",
       "      <td>2</td>\n",
       "      <td>26</td>\n",
       "      <td>-1</td>\n",
       "      <td>2</td>\n",
       "      <td>0</td>\n",
       "      <td>0</td>\n",
       "      <td>...</td>\n",
       "      <td>3272.0</td>\n",
       "      <td>3455.0</td>\n",
       "      <td>3261.0</td>\n",
       "      <td>0.0</td>\n",
       "      <td>1000.0</td>\n",
       "      <td>1000.0</td>\n",
       "      <td>1000.0</td>\n",
       "      <td>0.0</td>\n",
       "      <td>2000.0</td>\n",
       "      <td>1</td>\n",
       "    </tr>\n",
       "    <tr>\n",
       "      <th>2</th>\n",
       "      <td>3</td>\n",
       "      <td>90000.0</td>\n",
       "      <td>2</td>\n",
       "      <td>2</td>\n",
       "      <td>2</td>\n",
       "      <td>34</td>\n",
       "      <td>0</td>\n",
       "      <td>0</td>\n",
       "      <td>0</td>\n",
       "      <td>0</td>\n",
       "      <td>...</td>\n",
       "      <td>14331.0</td>\n",
       "      <td>14948.0</td>\n",
       "      <td>15549.0</td>\n",
       "      <td>1518.0</td>\n",
       "      <td>1500.0</td>\n",
       "      <td>1000.0</td>\n",
       "      <td>1000.0</td>\n",
       "      <td>1000.0</td>\n",
       "      <td>5000.0</td>\n",
       "      <td>0</td>\n",
       "    </tr>\n",
       "    <tr>\n",
       "      <th>3</th>\n",
       "      <td>4</td>\n",
       "      <td>50000.0</td>\n",
       "      <td>2</td>\n",
       "      <td>2</td>\n",
       "      <td>1</td>\n",
       "      <td>37</td>\n",
       "      <td>0</td>\n",
       "      <td>0</td>\n",
       "      <td>0</td>\n",
       "      <td>0</td>\n",
       "      <td>...</td>\n",
       "      <td>28314.0</td>\n",
       "      <td>28959.0</td>\n",
       "      <td>29547.0</td>\n",
       "      <td>2000.0</td>\n",
       "      <td>2019.0</td>\n",
       "      <td>1200.0</td>\n",
       "      <td>1100.0</td>\n",
       "      <td>1069.0</td>\n",
       "      <td>1000.0</td>\n",
       "      <td>0</td>\n",
       "    </tr>\n",
       "    <tr>\n",
       "      <th>4</th>\n",
       "      <td>5</td>\n",
       "      <td>50000.0</td>\n",
       "      <td>1</td>\n",
       "      <td>2</td>\n",
       "      <td>1</td>\n",
       "      <td>57</td>\n",
       "      <td>-1</td>\n",
       "      <td>0</td>\n",
       "      <td>-1</td>\n",
       "      <td>0</td>\n",
       "      <td>...</td>\n",
       "      <td>20940.0</td>\n",
       "      <td>19146.0</td>\n",
       "      <td>19131.0</td>\n",
       "      <td>2000.0</td>\n",
       "      <td>36681.0</td>\n",
       "      <td>10000.0</td>\n",
       "      <td>9000.0</td>\n",
       "      <td>689.0</td>\n",
       "      <td>679.0</td>\n",
       "      <td>0</td>\n",
       "    </tr>\n",
       "  </tbody>\n",
       "</table>\n",
       "<p>5 rows × 25 columns</p>\n",
       "</div>"
      ],
      "text/plain": [
       "   ID  LIMIT_BAL  SEX  EDUCATION  MARRIAGE  AGE  PAY_0  PAY_2  PAY_3  PAY_4  \\\n",
       "0   1    20000.0    2          2         1   24      2      2     -1     -1   \n",
       "1   2   120000.0    2          2         2   26     -1      2      0      0   \n",
       "2   3    90000.0    2          2         2   34      0      0      0      0   \n",
       "3   4    50000.0    2          2         1   37      0      0      0      0   \n",
       "4   5    50000.0    1          2         1   57     -1      0     -1      0   \n",
       "\n",
       "   ...  BILL_AMT4  BILL_AMT5  BILL_AMT6  PAY_AMT1  PAY_AMT2  PAY_AMT3  \\\n",
       "0  ...        0.0        0.0        0.0       0.0     689.0       0.0   \n",
       "1  ...     3272.0     3455.0     3261.0       0.0    1000.0    1000.0   \n",
       "2  ...    14331.0    14948.0    15549.0    1518.0    1500.0    1000.0   \n",
       "3  ...    28314.0    28959.0    29547.0    2000.0    2019.0    1200.0   \n",
       "4  ...    20940.0    19146.0    19131.0    2000.0   36681.0   10000.0   \n",
       "\n",
       "   PAY_AMT4  PAY_AMT5  PAY_AMT6  default.payment.next.month  \n",
       "0       0.0       0.0       0.0                           1  \n",
       "1    1000.0       0.0    2000.0                           1  \n",
       "2    1000.0    1000.0    5000.0                           0  \n",
       "3    1100.0    1069.0    1000.0                           0  \n",
       "4    9000.0     689.0     679.0                           0  \n",
       "\n",
       "[5 rows x 25 columns]"
      ]
     },
     "execution_count": 6,
     "metadata": {},
     "output_type": "execute_result"
    }
   ],
   "source": [
    "# Printing data :-\n",
    "data.head()"
   ]
  },
  {
   "cell_type": "code",
   "execution_count": 7,
   "id": "86a98553",
   "metadata": {},
   "outputs": [],
   "source": [
    "# Renaming last variable by creating new column and deleting former one -\n",
    "\n",
    "data['label'] = data['default.payment.next.month']\n",
    "data = data.drop(columns = ['default.payment.next.month'])"
   ]
  },
  {
   "cell_type": "code",
   "execution_count": 8,
   "id": "a9c287c3",
   "metadata": {},
   "outputs": [
    {
     "data": {
      "text/html": [
       "<div>\n",
       "<style scoped>\n",
       "    .dataframe tbody tr th:only-of-type {\n",
       "        vertical-align: middle;\n",
       "    }\n",
       "\n",
       "    .dataframe tbody tr th {\n",
       "        vertical-align: top;\n",
       "    }\n",
       "\n",
       "    .dataframe thead th {\n",
       "        text-align: right;\n",
       "    }\n",
       "</style>\n",
       "<table border=\"1\" class=\"dataframe\">\n",
       "  <thead>\n",
       "    <tr style=\"text-align: right;\">\n",
       "      <th></th>\n",
       "      <th>ID</th>\n",
       "      <th>LIMIT_BAL</th>\n",
       "      <th>SEX</th>\n",
       "      <th>EDUCATION</th>\n",
       "      <th>MARRIAGE</th>\n",
       "      <th>AGE</th>\n",
       "      <th>PAY_0</th>\n",
       "      <th>PAY_2</th>\n",
       "      <th>PAY_3</th>\n",
       "      <th>PAY_4</th>\n",
       "      <th>...</th>\n",
       "      <th>BILL_AMT4</th>\n",
       "      <th>BILL_AMT5</th>\n",
       "      <th>BILL_AMT6</th>\n",
       "      <th>PAY_AMT1</th>\n",
       "      <th>PAY_AMT2</th>\n",
       "      <th>PAY_AMT3</th>\n",
       "      <th>PAY_AMT4</th>\n",
       "      <th>PAY_AMT5</th>\n",
       "      <th>PAY_AMT6</th>\n",
       "      <th>label</th>\n",
       "    </tr>\n",
       "  </thead>\n",
       "  <tbody>\n",
       "    <tr>\n",
       "      <th>0</th>\n",
       "      <td>1</td>\n",
       "      <td>20000.0</td>\n",
       "      <td>2</td>\n",
       "      <td>2</td>\n",
       "      <td>1</td>\n",
       "      <td>24</td>\n",
       "      <td>2</td>\n",
       "      <td>2</td>\n",
       "      <td>-1</td>\n",
       "      <td>-1</td>\n",
       "      <td>...</td>\n",
       "      <td>0.0</td>\n",
       "      <td>0.0</td>\n",
       "      <td>0.0</td>\n",
       "      <td>0.0</td>\n",
       "      <td>689.0</td>\n",
       "      <td>0.0</td>\n",
       "      <td>0.0</td>\n",
       "      <td>0.0</td>\n",
       "      <td>0.0</td>\n",
       "      <td>1</td>\n",
       "    </tr>\n",
       "    <tr>\n",
       "      <th>1</th>\n",
       "      <td>2</td>\n",
       "      <td>120000.0</td>\n",
       "      <td>2</td>\n",
       "      <td>2</td>\n",
       "      <td>2</td>\n",
       "      <td>26</td>\n",
       "      <td>-1</td>\n",
       "      <td>2</td>\n",
       "      <td>0</td>\n",
       "      <td>0</td>\n",
       "      <td>...</td>\n",
       "      <td>3272.0</td>\n",
       "      <td>3455.0</td>\n",
       "      <td>3261.0</td>\n",
       "      <td>0.0</td>\n",
       "      <td>1000.0</td>\n",
       "      <td>1000.0</td>\n",
       "      <td>1000.0</td>\n",
       "      <td>0.0</td>\n",
       "      <td>2000.0</td>\n",
       "      <td>1</td>\n",
       "    </tr>\n",
       "    <tr>\n",
       "      <th>2</th>\n",
       "      <td>3</td>\n",
       "      <td>90000.0</td>\n",
       "      <td>2</td>\n",
       "      <td>2</td>\n",
       "      <td>2</td>\n",
       "      <td>34</td>\n",
       "      <td>0</td>\n",
       "      <td>0</td>\n",
       "      <td>0</td>\n",
       "      <td>0</td>\n",
       "      <td>...</td>\n",
       "      <td>14331.0</td>\n",
       "      <td>14948.0</td>\n",
       "      <td>15549.0</td>\n",
       "      <td>1518.0</td>\n",
       "      <td>1500.0</td>\n",
       "      <td>1000.0</td>\n",
       "      <td>1000.0</td>\n",
       "      <td>1000.0</td>\n",
       "      <td>5000.0</td>\n",
       "      <td>0</td>\n",
       "    </tr>\n",
       "    <tr>\n",
       "      <th>3</th>\n",
       "      <td>4</td>\n",
       "      <td>50000.0</td>\n",
       "      <td>2</td>\n",
       "      <td>2</td>\n",
       "      <td>1</td>\n",
       "      <td>37</td>\n",
       "      <td>0</td>\n",
       "      <td>0</td>\n",
       "      <td>0</td>\n",
       "      <td>0</td>\n",
       "      <td>...</td>\n",
       "      <td>28314.0</td>\n",
       "      <td>28959.0</td>\n",
       "      <td>29547.0</td>\n",
       "      <td>2000.0</td>\n",
       "      <td>2019.0</td>\n",
       "      <td>1200.0</td>\n",
       "      <td>1100.0</td>\n",
       "      <td>1069.0</td>\n",
       "      <td>1000.0</td>\n",
       "      <td>0</td>\n",
       "    </tr>\n",
       "    <tr>\n",
       "      <th>4</th>\n",
       "      <td>5</td>\n",
       "      <td>50000.0</td>\n",
       "      <td>1</td>\n",
       "      <td>2</td>\n",
       "      <td>1</td>\n",
       "      <td>57</td>\n",
       "      <td>-1</td>\n",
       "      <td>0</td>\n",
       "      <td>-1</td>\n",
       "      <td>0</td>\n",
       "      <td>...</td>\n",
       "      <td>20940.0</td>\n",
       "      <td>19146.0</td>\n",
       "      <td>19131.0</td>\n",
       "      <td>2000.0</td>\n",
       "      <td>36681.0</td>\n",
       "      <td>10000.0</td>\n",
       "      <td>9000.0</td>\n",
       "      <td>689.0</td>\n",
       "      <td>679.0</td>\n",
       "      <td>0</td>\n",
       "    </tr>\n",
       "  </tbody>\n",
       "</table>\n",
       "<p>5 rows × 25 columns</p>\n",
       "</div>"
      ],
      "text/plain": [
       "   ID  LIMIT_BAL  SEX  EDUCATION  MARRIAGE  AGE  PAY_0  PAY_2  PAY_3  PAY_4  \\\n",
       "0   1    20000.0    2          2         1   24      2      2     -1     -1   \n",
       "1   2   120000.0    2          2         2   26     -1      2      0      0   \n",
       "2   3    90000.0    2          2         2   34      0      0      0      0   \n",
       "3   4    50000.0    2          2         1   37      0      0      0      0   \n",
       "4   5    50000.0    1          2         1   57     -1      0     -1      0   \n",
       "\n",
       "   ...  BILL_AMT4  BILL_AMT5  BILL_AMT6  PAY_AMT1  PAY_AMT2  PAY_AMT3  \\\n",
       "0  ...        0.0        0.0        0.0       0.0     689.0       0.0   \n",
       "1  ...     3272.0     3455.0     3261.0       0.0    1000.0    1000.0   \n",
       "2  ...    14331.0    14948.0    15549.0    1518.0    1500.0    1000.0   \n",
       "3  ...    28314.0    28959.0    29547.0    2000.0    2019.0    1200.0   \n",
       "4  ...    20940.0    19146.0    19131.0    2000.0   36681.0   10000.0   \n",
       "\n",
       "   PAY_AMT4  PAY_AMT5  PAY_AMT6  label  \n",
       "0       0.0       0.0       0.0      1  \n",
       "1    1000.0       0.0    2000.0      1  \n",
       "2    1000.0    1000.0    5000.0      0  \n",
       "3    1100.0    1069.0    1000.0      0  \n",
       "4    9000.0     689.0     679.0      0  \n",
       "\n",
       "[5 rows x 25 columns]"
      ]
     },
     "execution_count": 8,
     "metadata": {},
     "output_type": "execute_result"
    }
   ],
   "source": [
    "data.head()"
   ]
  },
  {
   "cell_type": "code",
   "execution_count": 9,
   "id": "64f0aa99",
   "metadata": {},
   "outputs": [],
   "source": [
    "# Defining function for calculating count & proposition throughout the program -\n",
    "\n",
    "'''\n",
    "    Print target column information - count for each unique value along with proportion and graphical visulization\n",
    "'''\n",
    "def target_info(df_target_column):\n",
    "    proportion_true = str(round(sum(df_target_column == True)/len(df_target_column),3)*100)\n",
    "    proportion_false = str(round(sum(df_target_column == False)/len(df_target_column),3)*100)\n",
    "    \n",
    "    print('Total Records : {}'.format(len(df_target_column)))\n",
    "    print()\n",
    "    print('No. of Default: {}'.format(sum(df_target_column == True)))\n",
    "    print('Proportion of Defaults: {}'.format(proportion_true + '%'))\n",
    "    print('')\n",
    "    print('No. of Non-Defaults: {}'.format(sum(df_target_column == False)))\n",
    "    print('Proportion of Non-Defaults: {}'.format(proportion_false + '%'))\n",
    "    plt.figure(figsize=(5,5))\n",
    "    sns.barplot(x=df_target_column.value_counts().index, y = df_target_column.value_counts())\n",
    "    plt.title('Defaults vs Non-Defaults')\n",
    "    plt.ylabel('count')\n",
    "    return"
   ]
  },
  {
   "cell_type": "code",
   "execution_count": 10,
   "id": "8a8dfef8",
   "metadata": {},
   "outputs": [
    {
     "name": "stdout",
     "output_type": "stream",
     "text": [
      "Total Records : 30000\n",
      "\n",
      "No. of Default: 6636\n",
      "Proportion of Defaults: 22.1%\n",
      "\n",
      "No. of Non-Defaults: 23364\n",
      "Proportion of Non-Defaults: 77.9%\n"
     ]
    },
    {
     "data": {
      "image/png": "[encoded data removed]",
      "text/plain": [
       "<Figure size 500x500 with 1 Axes>"
      ]
     },
     "metadata": {},
     "output_type": "display_data"
    }
   ],
   "source": [
    "target_info(data['label'])"
   ]
  },
  {
   "cell_type": "code",
   "execution_count": 11,
   "id": "ea1839f2",
   "metadata": {},
   "outputs": [],
   "source": [
    "# Setting exclusion list for the scorecard development using open source tool (Toad) -\n",
    "exclude_list = ['ID','label']"
   ]
  },
  {
   "cell_type": "code",
   "execution_count": 12,
   "id": "ee567e89",
   "metadata": {},
   "outputs": [
    {
     "data": {
      "text/plain": [
       "count    30000.000000\n",
       "mean     15000.500000\n",
       "std       8660.398374\n",
       "min          1.000000\n",
       "25%       7500.750000\n",
       "50%      15000.500000\n",
       "75%      22500.250000\n",
       "max      30000.000000\n",
       "Name: ID, dtype: float64"
      ]
     },
     "execution_count": 12,
     "metadata": {},
     "output_type": "execute_result"
    }
   ],
   "source": [
    "data.ID.describe()"
   ]
  },
  {
   "cell_type": "code",
   "execution_count": 13,
   "id": "361ae160",
   "metadata": {},
   "outputs": [],
   "source": [
    "# Defining data_split function -\n",
    "'''\n",
    "Spliting the dataset into train and test using split_col provided in the argument.\n",
    "'''\n",
    "def data_split(df,start,end,split_col):\n",
    "    data = df[(df[split_col] >= start) & (df[split_col] < end)]\n",
    "    data = data.reset_index(drop=True)\n",
    "    return data"
   ]
  },
  {
   "cell_type": "code",
   "execution_count": 14,
   "id": "5182fa3a",
   "metadata": {},
   "outputs": [],
   "source": [
    "# Using ID column to split the training and testing data -\n",
    "train = data_split(data, start = 0, end = 22500, split_col = \"ID\")\n",
    "test = data_split(data, start = 22500, end = 503434, split_col = \"ID\")"
   ]
  },
  {
   "cell_type": "code",
   "execution_count": 15,
   "id": "d17b1655",
   "metadata": {},
   "outputs": [
    {
     "data": {
      "text/plain": [
       "label\n",
       "0    17411\n",
       "1     5088\n",
       "Name: count, dtype: int64"
      ]
     },
     "execution_count": 15,
     "metadata": {},
     "output_type": "execute_result"
    }
   ],
   "source": [
    "# Counting values :-\n",
    "train.label.value_counts()"
   ]
  },
  {
   "cell_type": "code",
   "execution_count": 16,
   "id": "d4d94e55",
   "metadata": {},
   "outputs": [
    {
     "data": {
      "text/plain": [
       "label\n",
       "0    5953\n",
       "1    1548\n",
       "Name: count, dtype: int64"
      ]
     },
     "execution_count": 16,
     "metadata": {},
     "output_type": "execute_result"
    }
   ],
   "source": [
    "test.label.value_counts()"
   ]
  },
  {
   "cell_type": "markdown",
   "id": "55465d55",
   "metadata": {},
   "source": [
    "### Feature Filtering -"
   ]
  },
  {
   "cell_type": "code",
   "execution_count": 17,
   "id": "69511712",
   "metadata": {},
   "outputs": [],
   "source": [
    "# Filtering features that have low information value and high correlation -\n",
    "'''\n",
    "1. If the missing value rate is greater than the threshold, then delete the feature.\n",
    "2. If correlation coefficient is greater than the threshold, then delete the feature.\n",
    "3. If the information value is smaller than the threshold, then delete the feature.\n",
    "'''\n",
    "\n",
    "train_selected, drop_lst = toad.selection.select(frame = train,\n",
    "                                                 target = train['label'],\n",
    "                                                 empty = 0.7,\n",
    "                                                 iv = 0.02,\n",
    "                                                 corr = 1,\n",
    "                                                 return_drop = True,\n",
    "                                                 exclude = exclude_list)"
   ]
  },
  {
   "cell_type": "code",
   "execution_count": 18,
   "id": "db231973",
   "metadata": {},
   "outputs": [
    {
     "name": "stdout",
     "output_type": "stream",
     "text": [
      "keep: 23 drop empty: 0 drop iv: 2 drop corr: 0\n"
     ]
    }
   ],
   "source": [
    "print(\"keep:\",train_selected.shape[1],\n",
    "      \"drop empty:\",len(drop_lst['empty']),\n",
    "      \"drop iv:\",len(drop_lst['iv']),\n",
    "      \"drop corr:\", len(drop_lst['corr']))"
   ]
  },
  {
   "cell_type": "code",
   "execution_count": 19,
   "id": "addda2f7",
   "metadata": {},
   "outputs": [
    {
     "data": {
      "text/plain": [
       "{'empty': array([], dtype=float64),\n",
       " 'iv': array(['SEX', 'MARRIAGE'], dtype=object),\n",
       " 'corr': array([], dtype=object)}"
      ]
     },
     "execution_count": 19,
     "metadata": {},
     "output_type": "execute_result"
    }
   ],
   "source": [
    "drop_lst"
   ]
  },
  {
   "cell_type": "markdown",
   "id": "d4f23062",
   "metadata": {},
   "source": [
    "* Weight of evidence (WOE) - Describes the relationship between a predictive variable and a binary target variable.\n",
    "* Information Value (IV) - Measures the strength of that relationship based on WOE. The industry level is to drop features with an IV lower than 0.02\n",
    "\n",
    "* Information Value = ln(%good / %bad)*(%good - %bad)\n",
    "* Weight of Evidence = ln (%good / %bad)"
   ]
  },
  {
   "cell_type": "code",
   "execution_count": 20,
   "id": "d0c1de28",
   "metadata": {},
   "outputs": [],
   "source": [
    "# Output the iv table to a dataframe :-\n",
    "\n",
    "def output_iv_importance(train_selected,label_col):\n",
    "    feat_import_iv = toad.quality(train_selected,label_col,iv_only = True)\n",
    "    feat_import_iv = feat_import_iv['iv']\n",
    "    feat_import_iv = feat_import_iv.reset_index()\n",
    "    feat_import_iv.columns = ['name','iv']\n",
    "    return feat_import_iv"
   ]
  },
  {
   "cell_type": "code",
   "execution_count": 21,
   "id": "9f9d5249",
   "metadata": {},
   "outputs": [],
   "source": [
    "df_iv = output_iv_importance(train_selected,'label')"
   ]
  },
  {
   "cell_type": "code",
   "execution_count": 22,
   "id": "52822519",
   "metadata": {},
   "outputs": [
    {
     "data": {
      "text/plain": [
       "(22, 2)"
      ]
     },
     "execution_count": 22,
     "metadata": {},
     "output_type": "execute_result"
    }
   ],
   "source": [
    "df_iv.shape"
   ]
  },
  {
   "cell_type": "code",
   "execution_count": 23,
   "id": "b19ae8cf",
   "metadata": {},
   "outputs": [
    {
     "data": {
      "text/html": [
       "<div>\n",
       "<style scoped>\n",
       "    .dataframe tbody tr th:only-of-type {\n",
       "        vertical-align: middle;\n",
       "    }\n",
       "\n",
       "    .dataframe tbody tr th {\n",
       "        vertical-align: top;\n",
       "    }\n",
       "\n",
       "    .dataframe thead th {\n",
       "        text-align: right;\n",
       "    }\n",
       "</style>\n",
       "<table border=\"1\" class=\"dataframe\">\n",
       "  <thead>\n",
       "    <tr style=\"text-align: right;\">\n",
       "      <th></th>\n",
       "      <th>name</th>\n",
       "      <th>iv</th>\n",
       "    </tr>\n",
       "  </thead>\n",
       "  <tbody>\n",
       "    <tr>\n",
       "      <th>0</th>\n",
       "      <td>PAY_0</td>\n",
       "      <td>0.864707</td>\n",
       "    </tr>\n",
       "    <tr>\n",
       "      <th>1</th>\n",
       "      <td>PAY_2</td>\n",
       "      <td>0.536068</td>\n",
       "    </tr>\n",
       "    <tr>\n",
       "      <th>2</th>\n",
       "      <td>PAY_3</td>\n",
       "      <td>0.401513</td>\n",
       "    </tr>\n",
       "    <tr>\n",
       "      <th>3</th>\n",
       "      <td>PAY_4</td>\n",
       "      <td>0.349813</td>\n",
       "    </tr>\n",
       "    <tr>\n",
       "      <th>4</th>\n",
       "      <td>PAY_5</td>\n",
       "      <td>0.340014</td>\n",
       "    </tr>\n",
       "    <tr>\n",
       "      <th>5</th>\n",
       "      <td>PAY_6</td>\n",
       "      <td>0.282692</td>\n",
       "    </tr>\n",
       "    <tr>\n",
       "      <th>6</th>\n",
       "      <td>PAY_AMT1</td>\n",
       "      <td>0.189334</td>\n",
       "    </tr>\n",
       "    <tr>\n",
       "      <th>7</th>\n",
       "      <td>LIMIT_BAL</td>\n",
       "      <td>0.170973</td>\n",
       "    </tr>\n",
       "    <tr>\n",
       "      <th>8</th>\n",
       "      <td>PAY_AMT2</td>\n",
       "      <td>0.168256</td>\n",
       "    </tr>\n",
       "    <tr>\n",
       "      <th>9</th>\n",
       "      <td>PAY_AMT3</td>\n",
       "      <td>0.128827</td>\n",
       "    </tr>\n",
       "    <tr>\n",
       "      <th>10</th>\n",
       "      <td>PAY_AMT4</td>\n",
       "      <td>0.121719</td>\n",
       "    </tr>\n",
       "    <tr>\n",
       "      <th>11</th>\n",
       "      <td>PAY_AMT6</td>\n",
       "      <td>0.106017</td>\n",
       "    </tr>\n",
       "    <tr>\n",
       "      <th>12</th>\n",
       "      <td>PAY_AMT5</td>\n",
       "      <td>0.103353</td>\n",
       "    </tr>\n",
       "    <tr>\n",
       "      <th>13</th>\n",
       "      <td>BILL_AMT4</td>\n",
       "      <td>0.047998</td>\n",
       "    </tr>\n",
       "    <tr>\n",
       "      <th>14</th>\n",
       "      <td>BILL_AMT5</td>\n",
       "      <td>0.046490</td>\n",
       "    </tr>\n",
       "    <tr>\n",
       "      <th>15</th>\n",
       "      <td>BILL_AMT3</td>\n",
       "      <td>0.044047</td>\n",
       "    </tr>\n",
       "    <tr>\n",
       "      <th>16</th>\n",
       "      <td>EDUCATION</td>\n",
       "      <td>0.036458</td>\n",
       "    </tr>\n",
       "    <tr>\n",
       "      <th>17</th>\n",
       "      <td>ID</td>\n",
       "      <td>0.032184</td>\n",
       "    </tr>\n",
       "    <tr>\n",
       "      <th>18</th>\n",
       "      <td>AGE</td>\n",
       "      <td>0.027512</td>\n",
       "    </tr>\n",
       "    <tr>\n",
       "      <th>19</th>\n",
       "      <td>BILL_AMT6</td>\n",
       "      <td>0.027461</td>\n",
       "    </tr>\n",
       "    <tr>\n",
       "      <th>20</th>\n",
       "      <td>BILL_AMT1</td>\n",
       "      <td>0.026191</td>\n",
       "    </tr>\n",
       "    <tr>\n",
       "      <th>21</th>\n",
       "      <td>BILL_AMT2</td>\n",
       "      <td>0.022539</td>\n",
       "    </tr>\n",
       "  </tbody>\n",
       "</table>\n",
       "</div>"
      ],
      "text/plain": [
       "         name        iv\n",
       "0       PAY_0  0.864707\n",
       "1       PAY_2  0.536068\n",
       "2       PAY_3  0.401513\n",
       "3       PAY_4  0.349813\n",
       "4       PAY_5  0.340014\n",
       "5       PAY_6  0.282692\n",
       "6    PAY_AMT1  0.189334\n",
       "7   LIMIT_BAL  0.170973\n",
       "8    PAY_AMT2  0.168256\n",
       "9    PAY_AMT3  0.128827\n",
       "10   PAY_AMT4  0.121719\n",
       "11   PAY_AMT6  0.106017\n",
       "12   PAY_AMT5  0.103353\n",
       "13  BILL_AMT4  0.047998\n",
       "14  BILL_AMT5  0.046490\n",
       "15  BILL_AMT3  0.044047\n",
       "16  EDUCATION  0.036458\n",
       "17         ID  0.032184\n",
       "18        AGE  0.027512\n",
       "19  BILL_AMT6  0.027461\n",
       "20  BILL_AMT1  0.026191\n",
       "21  BILL_AMT2  0.022539"
      ]
     },
     "execution_count": 23,
     "metadata": {},
     "output_type": "execute_result"
    }
   ],
   "source": [
    "df_iv.head(25)"
   ]
  },
  {
   "cell_type": "markdown",
   "id": "80817108",
   "metadata": {},
   "source": [
    "#### This is the IV ranking of all the features. PAY_0 has the highest IV which makes sense as it's feature indicating most recent repayment status.\n",
    "#### EDUCATION and AGE have low IV compared to payment_status and amount."
   ]
  },
  {
   "cell_type": "markdown",
   "id": "d4f0f730",
   "metadata": {},
   "source": [
    "## Feature Binnning "
   ]
  },
  {
   "cell_type": "markdown",
   "id": "0aff15f8",
   "metadata": {},
   "source": [
    "Feature Binning is to transform a continuous or numerical variable into a categorical feature.\n",
    "* It simplifies the logistic regresssion model and reduces the risk of model overfitting.\n",
    "* Logistic regression is a generalized linear model, and its expressive ability is limited; Feature binning can introduce non-linearity into the model, which can improve the expressive ability of the model and help better model fitting.\n",
    "* The discretized features are very robust to abnormal data: For example - a feature is 1 if age > 30 and 0 otherwise. If the features are not discretized, an abnormal data point \"300 years old\" will impact the model fitting.\n",
    "* It can treat null data as an individual class"
   ]
  },
  {
   "cell_type": "code",
   "execution_count": 24,
   "id": "b7129095",
   "metadata": {},
   "outputs": [
    {
     "data": {
      "text/plain": [
       "label\n",
       "0    17411\n",
       "1     5088\n",
       "Name: count, dtype: int64"
      ]
     },
     "execution_count": 24,
     "metadata": {},
     "output_type": "execute_result"
    }
   ],
   "source": [
    "train_selected.label.value_counts()"
   ]
  },
  {
   "cell_type": "code",
   "execution_count": 25,
   "id": "af8be501",
   "metadata": {},
   "outputs": [
    {
     "data": {
      "text/plain": [
       "(22499, 23)"
      ]
     },
     "execution_count": 25,
     "metadata": {},
     "output_type": "execute_result"
    }
   ],
   "source": [
    "train_selected.shape"
   ]
  },
  {
   "cell_type": "markdown",
   "id": "ea91f509",
   "metadata": {},
   "source": [
    "## Steps for Feature Binning -"
   ]
  },
  {
   "cell_type": "markdown",
   "id": "2d7e79c9",
   "metadata": {},
   "source": [
    "#### Step 1. Initialization : c = toad.transform.Combiner()\n",
    "#### Step 2. Training Binning :\n",
    "c.fit(dataframe, y = 'target', method = 'chi', min_samples = 0.05, n_bins = None, empty_separate = False)\n",
    "\n",
    "* y: target column\n",
    "* method: binning method, supports chi(chi-square binning), dt(decision tree binning), kmean, quantile, step (equal step size binning)\n",
    "* min_samples: Each box contains the least number of samples, which can be a number of a proportion.\n",
    "* n_bins: the number of bins; if it is not possible to divide so many boxes the maximum number of bins will be divided.\n",
    "* empty_separate: Whether to separate empty boxes separately.\n",
    "\n",
    "#### Step 3. Check binning nodes: c.export()\n",
    "#### Step 4. Manually adjust binning: c.load(dict)\n",
    "#### Step 5. Apply binning results: c.transform(dataframe, labels = False)\n",
    "\n",
    "* labels: Whether to convert the binning results into box labels. If False, output 0,1,2,.... (discrete variables are sorted according to the proportion), and if True, output (-inf,0],(0,10],(10,inf)."
   ]
  },
  {
   "cell_type": "code",
   "execution_count": 26,
   "id": "1942ad8c",
   "metadata": {},
   "outputs": [
    {
     "name": "stdout",
     "output_type": "stream",
     "text": [
      "0.3434126337369283\n"
     ]
    }
   ],
   "source": [
    "import time\n",
    "start = time.time()\n",
    "combiner = toad.transform.Combiner()\n",
    "'''\n",
    "* Use the filtered features for training\n",
    "* Use the stable chi-square binning\n",
    "* Specifying that each bin has atleast 5% data to ensure stability\n",
    "* Empty values will be automatically assigned to the best bin\n",
    "\n",
    "'''\n",
    "combiner.fit(X=train_selected,\n",
    "             y=train_selected['label'],\n",
    "             method='chi',\n",
    "             min_samples=0.05,\n",
    "             exclude=exclude_list)\n",
    "end = time.time()\n",
    "print((end-start)/60)"
   ]
  },
  {
   "cell_type": "code",
   "execution_count": 27,
   "id": "fc42003e",
   "metadata": {},
   "outputs": [
    {
     "data": {
      "text/plain": [
       "<toad.transform.Combiner at 0x15eee7650>"
      ]
     },
     "execution_count": 27,
     "metadata": {},
     "output_type": "execute_result"
    }
   ],
   "source": [
    "combiner"
   ]
  },
  {
   "cell_type": "code",
   "execution_count": 28,
   "id": "3ae9871e",
   "metadata": {},
   "outputs": [],
   "source": [
    "# Save 1: Pickle combiner\n",
    "\n",
    "filename = 'CreditScore_save1_combiner.pkl'\n",
    "pickle.dump(combiner,open(filename,'wb'))"
   ]
  },
  {
   "cell_type": "code",
   "execution_count": 29,
   "id": "aa29ed4e",
   "metadata": {},
   "outputs": [
    {
     "data": {
      "text/plain": [
       "'CreditScore_save1_combiner.pkl'"
      ]
     },
     "execution_count": 29,
     "metadata": {},
     "output_type": "execute_result"
    }
   ],
   "source": [
    "filename"
   ]
  },
  {
   "cell_type": "code",
   "execution_count": 30,
   "id": "2441c1c8",
   "metadata": {},
   "outputs": [],
   "source": [
    "# Output binning\n",
    "\n",
    "bins = combiner.export()"
   ]
  },
  {
   "cell_type": "code",
   "execution_count": 31,
   "id": "b71742d2",
   "metadata": {},
   "outputs": [
    {
     "data": {
      "text/plain": [
       "21"
      ]
     },
     "execution_count": 31,
     "metadata": {},
     "output_type": "execute_result"
    }
   ],
   "source": [
    "len(bins)"
   ]
  },
  {
   "cell_type": "code",
   "execution_count": 32,
   "id": "b1917e1f",
   "metadata": {},
   "outputs": [
    {
     "data": {
      "text/plain": [
       "{'LIMIT_BAL': [50000.0,\n",
       "  60000.0,\n",
       "  80000.0,\n",
       "  110000.0,\n",
       "  150000.0,\n",
       "  230000.0,\n",
       "  370000.0],\n",
       " 'EDUCATION': [2],\n",
       " 'AGE': [26, 29, 34, 46],\n",
       " 'PAY_0': [-1, 0, 1, 2],\n",
       " 'PAY_2': [-1, 2],\n",
       " 'PAY_3': [-1, 0, 2],\n",
       " 'PAY_4': [-1, 0, 1],\n",
       " 'PAY_5': [-1, 0, 2],\n",
       " 'PAY_6': [-1, 0, 2],\n",
       " 'BILL_AMT1': [2501.0],\n",
       " 'BILL_AMT2': [2400.0, 8287.0, 35213.0],\n",
       " 'BILL_AMT3': [2400.0, 7458.0, 81890.0],\n",
       " 'BILL_AMT4': [2501.0],\n",
       " 'BILL_AMT5': [2395.0, 8110.0, 35288.0],\n",
       " 'BILL_AMT6': [19195.0, 50442.0],\n",
       " 'PAY_AMT1': [6.0, 4902.0],\n",
       " 'PAY_AMT2': [92.0, 1603.0, 4520.0, 15002.0],\n",
       " 'PAY_AMT3': [1.0, 2921.0],\n",
       " 'PAY_AMT4': [1.0, 1506.0, 3946.0],\n",
       " 'PAY_AMT5': [1.0, 1880.0, 10000.0],\n",
       " 'PAY_AMT6': [28.0, 480.0, 926.0, 1078.0, 1501.0, 4060.0, 9567.0]}"
      ]
     },
     "execution_count": 32,
     "metadata": {},
     "output_type": "execute_result"
    }
   ],
   "source": [
    "bins"
   ]
  },
  {
   "cell_type": "code",
   "execution_count": 33,
   "id": "5b679d5a",
   "metadata": {},
   "outputs": [],
   "source": [
    "# Applying binning -\n",
    "\n",
    "train_selected_bin = combiner.transform(train_selected)\n",
    "test_bin = combiner.transform(test[train_selected_bin.columns])"
   ]
  },
  {
   "cell_type": "code",
   "execution_count": 34,
   "id": "82d0c892",
   "metadata": {},
   "outputs": [
    {
     "data": {
      "text/html": [
       "<div>\n",
       "<style scoped>\n",
       "    .dataframe tbody tr th:only-of-type {\n",
       "        vertical-align: middle;\n",
       "    }\n",
       "\n",
       "    .dataframe tbody tr th {\n",
       "        vertical-align: top;\n",
       "    }\n",
       "\n",
       "    .dataframe thead th {\n",
       "        text-align: right;\n",
       "    }\n",
       "</style>\n",
       "<table border=\"1\" class=\"dataframe\">\n",
       "  <thead>\n",
       "    <tr style=\"text-align: right;\">\n",
       "      <th></th>\n",
       "      <th>ID</th>\n",
       "      <th>LIMIT_BAL</th>\n",
       "      <th>EDUCATION</th>\n",
       "      <th>AGE</th>\n",
       "      <th>PAY_0</th>\n",
       "      <th>PAY_2</th>\n",
       "      <th>PAY_3</th>\n",
       "      <th>PAY_4</th>\n",
       "      <th>PAY_5</th>\n",
       "      <th>PAY_6</th>\n",
       "      <th>...</th>\n",
       "      <th>BILL_AMT4</th>\n",
       "      <th>BILL_AMT5</th>\n",
       "      <th>BILL_AMT6</th>\n",
       "      <th>PAY_AMT1</th>\n",
       "      <th>PAY_AMT2</th>\n",
       "      <th>PAY_AMT3</th>\n",
       "      <th>PAY_AMT4</th>\n",
       "      <th>PAY_AMT5</th>\n",
       "      <th>PAY_AMT6</th>\n",
       "      <th>label</th>\n",
       "    </tr>\n",
       "  </thead>\n",
       "  <tbody>\n",
       "    <tr>\n",
       "      <th>0</th>\n",
       "      <td>1</td>\n",
       "      <td>0</td>\n",
       "      <td>1</td>\n",
       "      <td>0</td>\n",
       "      <td>4</td>\n",
       "      <td>2</td>\n",
       "      <td>1</td>\n",
       "      <td>1</td>\n",
       "      <td>0</td>\n",
       "      <td>0</td>\n",
       "      <td>...</td>\n",
       "      <td>0</td>\n",
       "      <td>0</td>\n",
       "      <td>0</td>\n",
       "      <td>0</td>\n",
       "      <td>1</td>\n",
       "      <td>0</td>\n",
       "      <td>0</td>\n",
       "      <td>0</td>\n",
       "      <td>0</td>\n",
       "      <td>1</td>\n",
       "    </tr>\n",
       "    <tr>\n",
       "      <th>1</th>\n",
       "      <td>2</td>\n",
       "      <td>4</td>\n",
       "      <td>1</td>\n",
       "      <td>1</td>\n",
       "      <td>1</td>\n",
       "      <td>2</td>\n",
       "      <td>2</td>\n",
       "      <td>2</td>\n",
       "      <td>2</td>\n",
       "      <td>3</td>\n",
       "      <td>...</td>\n",
       "      <td>1</td>\n",
       "      <td>1</td>\n",
       "      <td>0</td>\n",
       "      <td>0</td>\n",
       "      <td>1</td>\n",
       "      <td>1</td>\n",
       "      <td>1</td>\n",
       "      <td>0</td>\n",
       "      <td>5</td>\n",
       "      <td>1</td>\n",
       "    </tr>\n",
       "    <tr>\n",
       "      <th>2</th>\n",
       "      <td>3</td>\n",
       "      <td>3</td>\n",
       "      <td>1</td>\n",
       "      <td>3</td>\n",
       "      <td>2</td>\n",
       "      <td>1</td>\n",
       "      <td>2</td>\n",
       "      <td>2</td>\n",
       "      <td>2</td>\n",
       "      <td>2</td>\n",
       "      <td>...</td>\n",
       "      <td>1</td>\n",
       "      <td>2</td>\n",
       "      <td>0</td>\n",
       "      <td>1</td>\n",
       "      <td>1</td>\n",
       "      <td>1</td>\n",
       "      <td>1</td>\n",
       "      <td>1</td>\n",
       "      <td>6</td>\n",
       "      <td>0</td>\n",
       "    </tr>\n",
       "    <tr>\n",
       "      <th>3</th>\n",
       "      <td>4</td>\n",
       "      <td>1</td>\n",
       "      <td>1</td>\n",
       "      <td>3</td>\n",
       "      <td>2</td>\n",
       "      <td>1</td>\n",
       "      <td>2</td>\n",
       "      <td>2</td>\n",
       "      <td>2</td>\n",
       "      <td>2</td>\n",
       "      <td>...</td>\n",
       "      <td>1</td>\n",
       "      <td>2</td>\n",
       "      <td>1</td>\n",
       "      <td>1</td>\n",
       "      <td>2</td>\n",
       "      <td>1</td>\n",
       "      <td>1</td>\n",
       "      <td>1</td>\n",
       "      <td>3</td>\n",
       "      <td>0</td>\n",
       "    </tr>\n",
       "    <tr>\n",
       "      <th>4</th>\n",
       "      <td>5</td>\n",
       "      <td>1</td>\n",
       "      <td>1</td>\n",
       "      <td>4</td>\n",
       "      <td>1</td>\n",
       "      <td>1</td>\n",
       "      <td>1</td>\n",
       "      <td>2</td>\n",
       "      <td>2</td>\n",
       "      <td>2</td>\n",
       "      <td>...</td>\n",
       "      <td>1</td>\n",
       "      <td>2</td>\n",
       "      <td>0</td>\n",
       "      <td>1</td>\n",
       "      <td>4</td>\n",
       "      <td>2</td>\n",
       "      <td>3</td>\n",
       "      <td>1</td>\n",
       "      <td>2</td>\n",
       "      <td>0</td>\n",
       "    </tr>\n",
       "  </tbody>\n",
       "</table>\n",
       "<p>5 rows × 23 columns</p>\n",
       "</div>"
      ],
      "text/plain": [
       "   ID  LIMIT_BAL  EDUCATION  AGE  PAY_0  PAY_2  PAY_3  PAY_4  PAY_5  PAY_6  \\\n",
       "0   1          0          1    0      4      2      1      1      0      0   \n",
       "1   2          4          1    1      1      2      2      2      2      3   \n",
       "2   3          3          1    3      2      1      2      2      2      2   \n",
       "3   4          1          1    3      2      1      2      2      2      2   \n",
       "4   5          1          1    4      1      1      1      2      2      2   \n",
       "\n",
       "   ...  BILL_AMT4  BILL_AMT5  BILL_AMT6  PAY_AMT1  PAY_AMT2  PAY_AMT3  \\\n",
       "0  ...          0          0          0         0         1         0   \n",
       "1  ...          1          1          0         0         1         1   \n",
       "2  ...          1          2          0         1         1         1   \n",
       "3  ...          1          2          1         1         2         1   \n",
       "4  ...          1          2          0         1         4         2   \n",
       "\n",
       "   PAY_AMT4  PAY_AMT5  PAY_AMT6  label  \n",
       "0         0         0         0      1  \n",
       "1         1         0         5      1  \n",
       "2         1         1         6      0  \n",
       "3         1         1         3      0  \n",
       "4         3         1         2      0  \n",
       "\n",
       "[5 rows x 23 columns]"
      ]
     },
     "execution_count": 34,
     "metadata": {},
     "output_type": "execute_result"
    }
   ],
   "source": [
    "train_selected_bin.head()"
   ]
  },
  {
   "cell_type": "code",
   "execution_count": 35,
   "id": "531818d2",
   "metadata": {},
   "outputs": [
    {
     "data": {
      "text/html": [
       "<div>\n",
       "<style scoped>\n",
       "    .dataframe tbody tr th:only-of-type {\n",
       "        vertical-align: middle;\n",
       "    }\n",
       "\n",
       "    .dataframe tbody tr th {\n",
       "        vertical-align: top;\n",
       "    }\n",
       "\n",
       "    .dataframe thead th {\n",
       "        text-align: right;\n",
       "    }\n",
       "</style>\n",
       "<table border=\"1\" class=\"dataframe\">\n",
       "  <thead>\n",
       "    <tr style=\"text-align: right;\">\n",
       "      <th></th>\n",
       "      <th>ID</th>\n",
       "      <th>LIMIT_BAL</th>\n",
       "      <th>EDUCATION</th>\n",
       "      <th>AGE</th>\n",
       "      <th>PAY_0</th>\n",
       "      <th>PAY_2</th>\n",
       "      <th>PAY_3</th>\n",
       "      <th>PAY_4</th>\n",
       "      <th>PAY_5</th>\n",
       "      <th>PAY_6</th>\n",
       "      <th>...</th>\n",
       "      <th>BILL_AMT4</th>\n",
       "      <th>BILL_AMT5</th>\n",
       "      <th>BILL_AMT6</th>\n",
       "      <th>PAY_AMT1</th>\n",
       "      <th>PAY_AMT2</th>\n",
       "      <th>PAY_AMT3</th>\n",
       "      <th>PAY_AMT4</th>\n",
       "      <th>PAY_AMT5</th>\n",
       "      <th>PAY_AMT6</th>\n",
       "      <th>label</th>\n",
       "    </tr>\n",
       "  </thead>\n",
       "  <tbody>\n",
       "    <tr>\n",
       "      <th>0</th>\n",
       "      <td>22500</td>\n",
       "      <td>7</td>\n",
       "      <td>1</td>\n",
       "      <td>3</td>\n",
       "      <td>2</td>\n",
       "      <td>1</td>\n",
       "      <td>2</td>\n",
       "      <td>1</td>\n",
       "      <td>2</td>\n",
       "      <td>2</td>\n",
       "      <td>...</td>\n",
       "      <td>1</td>\n",
       "      <td>3</td>\n",
       "      <td>2</td>\n",
       "      <td>2</td>\n",
       "      <td>2</td>\n",
       "      <td>2</td>\n",
       "      <td>3</td>\n",
       "      <td>2</td>\n",
       "      <td>6</td>\n",
       "      <td>0</td>\n",
       "    </tr>\n",
       "    <tr>\n",
       "      <th>1</th>\n",
       "      <td>22501</td>\n",
       "      <td>5</td>\n",
       "      <td>1</td>\n",
       "      <td>2</td>\n",
       "      <td>1</td>\n",
       "      <td>1</td>\n",
       "      <td>1</td>\n",
       "      <td>1</td>\n",
       "      <td>1</td>\n",
       "      <td>1</td>\n",
       "      <td>...</td>\n",
       "      <td>1</td>\n",
       "      <td>0</td>\n",
       "      <td>0</td>\n",
       "      <td>0</td>\n",
       "      <td>1</td>\n",
       "      <td>2</td>\n",
       "      <td>2</td>\n",
       "      <td>2</td>\n",
       "      <td>5</td>\n",
       "      <td>0</td>\n",
       "    </tr>\n",
       "    <tr>\n",
       "      <th>2</th>\n",
       "      <td>22502</td>\n",
       "      <td>6</td>\n",
       "      <td>0</td>\n",
       "      <td>2</td>\n",
       "      <td>2</td>\n",
       "      <td>1</td>\n",
       "      <td>2</td>\n",
       "      <td>2</td>\n",
       "      <td>2</td>\n",
       "      <td>2</td>\n",
       "      <td>...</td>\n",
       "      <td>1</td>\n",
       "      <td>3</td>\n",
       "      <td>1</td>\n",
       "      <td>1</td>\n",
       "      <td>2</td>\n",
       "      <td>1</td>\n",
       "      <td>2</td>\n",
       "      <td>2</td>\n",
       "      <td>5</td>\n",
       "      <td>0</td>\n",
       "    </tr>\n",
       "    <tr>\n",
       "      <th>3</th>\n",
       "      <td>22503</td>\n",
       "      <td>1</td>\n",
       "      <td>1</td>\n",
       "      <td>3</td>\n",
       "      <td>2</td>\n",
       "      <td>1</td>\n",
       "      <td>3</td>\n",
       "      <td>3</td>\n",
       "      <td>3</td>\n",
       "      <td>2</td>\n",
       "      <td>...</td>\n",
       "      <td>1</td>\n",
       "      <td>2</td>\n",
       "      <td>1</td>\n",
       "      <td>1</td>\n",
       "      <td>2</td>\n",
       "      <td>0</td>\n",
       "      <td>0</td>\n",
       "      <td>1</td>\n",
       "      <td>2</td>\n",
       "      <td>1</td>\n",
       "    </tr>\n",
       "    <tr>\n",
       "      <th>4</th>\n",
       "      <td>22504</td>\n",
       "      <td>6</td>\n",
       "      <td>1</td>\n",
       "      <td>2</td>\n",
       "      <td>2</td>\n",
       "      <td>1</td>\n",
       "      <td>2</td>\n",
       "      <td>2</td>\n",
       "      <td>2</td>\n",
       "      <td>2</td>\n",
       "      <td>...</td>\n",
       "      <td>1</td>\n",
       "      <td>3</td>\n",
       "      <td>2</td>\n",
       "      <td>2</td>\n",
       "      <td>3</td>\n",
       "      <td>2</td>\n",
       "      <td>3</td>\n",
       "      <td>2</td>\n",
       "      <td>6</td>\n",
       "      <td>1</td>\n",
       "    </tr>\n",
       "  </tbody>\n",
       "</table>\n",
       "<p>5 rows × 23 columns</p>\n",
       "</div>"
      ],
      "text/plain": [
       "      ID  LIMIT_BAL  EDUCATION  AGE  PAY_0  PAY_2  PAY_3  PAY_4  PAY_5  PAY_6  \\\n",
       "0  22500          7          1    3      2      1      2      1      2      2   \n",
       "1  22501          5          1    2      1      1      1      1      1      1   \n",
       "2  22502          6          0    2      2      1      2      2      2      2   \n",
       "3  22503          1          1    3      2      1      3      3      3      2   \n",
       "4  22504          6          1    2      2      1      2      2      2      2   \n",
       "\n",
       "   ...  BILL_AMT4  BILL_AMT5  BILL_AMT6  PAY_AMT1  PAY_AMT2  PAY_AMT3  \\\n",
       "0  ...          1          3          2         2         2         2   \n",
       "1  ...          1          0          0         0         1         2   \n",
       "2  ...          1          3          1         1         2         1   \n",
       "3  ...          1          2          1         1         2         0   \n",
       "4  ...          1          3          2         2         3         2   \n",
       "\n",
       "   PAY_AMT4  PAY_AMT5  PAY_AMT6  label  \n",
       "0         3         2         6      0  \n",
       "1         2         2         5      0  \n",
       "2         2         2         5      0  \n",
       "3         0         1         2      1  \n",
       "4         3         2         6      1  \n",
       "\n",
       "[5 rows x 23 columns]"
      ]
     },
     "execution_count": 35,
     "metadata": {},
     "output_type": "execute_result"
    }
   ],
   "source": [
    "test_bin.head()"
   ]
  },
  {
   "cell_type": "code",
   "execution_count": 36,
   "id": "67fb007c",
   "metadata": {},
   "outputs": [
    {
     "name": "stderr",
     "output_type": "stream",
     "text": [
      "/Users/nikhil__bhatt/anaconda3/lib/python3.11/site-packages/seaborn/_oldcore.py:1119: FutureWarning: use_inf_as_na option is deprecated and will be removed in a future version. Convert inf values to NaN before operating instead.\n",
      "  with pd.option_context('mode.use_inf_as_na', True):\n",
      "/Users/nikhil__bhatt/anaconda3/lib/python3.11/site-packages/seaborn/_oldcore.py:1119: FutureWarning: use_inf_as_na option is deprecated and will be removed in a future version. Convert inf values to NaN before operating instead.\n",
      "  with pd.option_context('mode.use_inf_as_na', True):\n",
      "/Users/nikhil__bhatt/anaconda3/lib/python3.11/site-packages/seaborn/_oldcore.py:1119: FutureWarning: use_inf_as_na option is deprecated and will be removed in a future version. Convert inf values to NaN before operating instead.\n",
      "  with pd.option_context('mode.use_inf_as_na', True):\n",
      "/Users/nikhil__bhatt/anaconda3/lib/python3.11/site-packages/seaborn/_oldcore.py:1119: FutureWarning: use_inf_as_na option is deprecated and will be removed in a future version. Convert inf values to NaN before operating instead.\n",
      "  with pd.option_context('mode.use_inf_as_na', True):\n"
     ]
    },
    {
     "data": {
      "text/plain": [
       "<Axes: xlabel='PAY_AMT1', ylabel='prop'>"
      ]
     },
     "execution_count": 36,
     "metadata": {},
     "output_type": "execute_result"
    },
    {
     "data": {
      "image/png": "[encoded data removed]",
      "text/plain": [
       "<Figure size 1200x600 with 2 Axes>"
      ]
     },
     "metadata": {},
     "output_type": "display_data"
    },
    {
     "data": {
      "image/png": "[encoded data removed]",
      "text/plain": [
       "<Figure size 1200x600 with 2 Axes>"
      ]
     },
     "metadata": {},
     "output_type": "display_data"
    }
   ],
   "source": [
    "# Fine tuning bins -\n",
    "\n",
    "from toad.plot import bin_plot, badrate_plot\n",
    "bin_plot(train_selected_bin,x='PAY_AMT1',target='label')\n",
    "bin_plot(test_bin,x='PAY_AMT1',target='label')"
   ]
  },
  {
   "cell_type": "markdown",
   "id": "51ba4230",
   "metadata": {},
   "source": [
    "##### Bar plot presents the proportion of the data in the corresponding bin & red line represents the proportion of default customers.\n",
    "##### Binning should have monotonicity, which means the line is trending in the same direction with no sudden jump or drop. Currently, plot is OK, if there is sudden jump or drop then we need to use c.set_rules(dict) to combine the binning.\n",
    "\n",
    "#setting rules-\n",
    "\n",
    "rule = {'PAY_AMT1':[['0', 'nan'],['1'], ['2'], ['3']]}\n",
    "\n",
    "#Adjust binning -\n",
    "\n",
    "c.set_rules(rule)"
   ]
  },
  {
   "cell_type": "code",
   "execution_count": 37,
   "id": "28fa7398",
   "metadata": {},
   "outputs": [
    {
     "data": {
      "text/plain": [
       "count    22499.000000\n",
       "mean         1.988711\n",
       "std          1.038531\n",
       "min          0.000000\n",
       "25%          1.000000\n",
       "50%          2.000000\n",
       "75%          2.000000\n",
       "max          4.000000\n",
       "Name: PAY_0, dtype: float64"
      ]
     },
     "execution_count": 37,
     "metadata": {},
     "output_type": "execute_result"
    }
   ],
   "source": [
    "train_selected_bin.PAY_0.describe()"
   ]
  },
  {
   "cell_type": "markdown",
   "id": "fe7512a1",
   "metadata": {},
   "source": [
    "## Transform to WOE (Weight of Evidence) and calculate PSI (Population Stability Index)"
   ]
  },
  {
   "cell_type": "markdown",
   "id": "1edeaa98",
   "metadata": {},
   "source": [
    "WOE transformation is performed after the binning is done.\n",
    "\n",
    "The steps are as follows -\n",
    "1. Use the above-adjusted Combiner c to tranform the data\n",
    "2. Intialize WOE tranform t: t = toad.tranform.WOETransformer()\n",
    "3. Training the t: t.fit_transform trains and outputs woe transformed data for the trainset\n",
    "4. target: target column data (not column name)\n",
    "5. exclude: columns that do not need to be tranformed by WOE. Note: All columns will be tranformed, including the columns that have not been binning, and the columns that do not need to be converted by WOE will be deleted through exclude, especially the target column.\n",
    "6. Transform the test/OOT(out-of-time) data: transfer.transform"
   ]
  },
  {
   "cell_type": "code",
   "execution_count": 38,
   "id": "56803d35",
   "metadata": {},
   "outputs": [],
   "source": [
    "# Transform to WOE -\n",
    "t = toad.transform.WOETransformer()\n",
    "\n",
    "# Tranform training set -\n",
    "train_woe = t.fit_transform(X=train_selected_bin,\n",
    "                            y=train_selected_bin['label'],\n",
    "                            exclude=exclude_list)\n",
    "\n",
    "# Transform testing set -\n",
    "test_woe = t.transform(test_bin)"
   ]
  },
  {
   "cell_type": "code",
   "execution_count": 39,
   "id": "d88dccb3",
   "metadata": {},
   "outputs": [
    {
     "data": {
      "text/html": [
       "<div>\n",
       "<style scoped>\n",
       "    .dataframe tbody tr th:only-of-type {\n",
       "        vertical-align: middle;\n",
       "    }\n",
       "\n",
       "    .dataframe tbody tr th {\n",
       "        vertical-align: top;\n",
       "    }\n",
       "\n",
       "    .dataframe thead th {\n",
       "        text-align: right;\n",
       "    }\n",
       "</style>\n",
       "<table border=\"1\" class=\"dataframe\">\n",
       "  <thead>\n",
       "    <tr style=\"text-align: right;\">\n",
       "      <th></th>\n",
       "      <th>ID</th>\n",
       "      <th>LIMIT_BAL</th>\n",
       "      <th>EDUCATION</th>\n",
       "      <th>AGE</th>\n",
       "      <th>PAY_0</th>\n",
       "      <th>PAY_2</th>\n",
       "      <th>PAY_3</th>\n",
       "      <th>PAY_4</th>\n",
       "      <th>PAY_5</th>\n",
       "      <th>PAY_6</th>\n",
       "      <th>...</th>\n",
       "      <th>BILL_AMT4</th>\n",
       "      <th>BILL_AMT5</th>\n",
       "      <th>BILL_AMT6</th>\n",
       "      <th>PAY_AMT1</th>\n",
       "      <th>PAY_AMT2</th>\n",
       "      <th>PAY_AMT3</th>\n",
       "      <th>PAY_AMT4</th>\n",
       "      <th>PAY_AMT5</th>\n",
       "      <th>PAY_AMT6</th>\n",
       "      <th>label</th>\n",
       "    </tr>\n",
       "  </thead>\n",
       "  <tbody>\n",
       "    <tr>\n",
       "      <th>0</th>\n",
       "      <td>1</td>\n",
       "      <td>0.666522</td>\n",
       "      <td>0.089338</td>\n",
       "      <td>0.260065</td>\n",
       "      <td>2.019269</td>\n",
       "      <td>1.459809</td>\n",
       "      <td>-0.417749</td>\n",
       "      <td>-0.383479</td>\n",
       "      <td>-0.146325</td>\n",
       "      <td>-0.117947</td>\n",
       "      <td>...</td>\n",
       "      <td>0.028510</td>\n",
       "      <td>-0.006521</td>\n",
       "      <td>-0.034304</td>\n",
       "      <td>0.662394</td>\n",
       "      <td>0.124160</td>\n",
       "      <td>0.488183</td>\n",
       "      <td>0.454327</td>\n",
       "      <td>0.370272</td>\n",
       "      <td>0.343887</td>\n",
       "      <td>1</td>\n",
       "    </tr>\n",
       "    <tr>\n",
       "      <th>1</th>\n",
       "      <td>2</td>\n",
       "      <td>-0.034630</td>\n",
       "      <td>0.089338</td>\n",
       "      <td>-0.100163</td>\n",
       "      <td>-0.308169</td>\n",
       "      <td>1.459809</td>\n",
       "      <td>-0.296556</td>\n",
       "      <td>-0.230510</td>\n",
       "      <td>-0.203587</td>\n",
       "      <td>1.282840</td>\n",
       "      <td>...</td>\n",
       "      <td>-0.009858</td>\n",
       "      <td>-0.239312</td>\n",
       "      <td>-0.034304</td>\n",
       "      <td>0.662394</td>\n",
       "      <td>0.124160</td>\n",
       "      <td>0.016060</td>\n",
       "      <td>0.056501</td>\n",
       "      <td>0.370272</td>\n",
       "      <td>-0.082401</td>\n",
       "      <td>1</td>\n",
       "    </tr>\n",
       "    <tr>\n",
       "      <th>2</th>\n",
       "      <td>3</td>\n",
       "      <td>0.108342</td>\n",
       "      <td>0.089338</td>\n",
       "      <td>-0.028816</td>\n",
       "      <td>-0.677822</td>\n",
       "      <td>-0.408118</td>\n",
       "      <td>-0.296556</td>\n",
       "      <td>-0.230510</td>\n",
       "      <td>-0.203587</td>\n",
       "      <td>-0.201216</td>\n",
       "      <td>...</td>\n",
       "      <td>-0.009858</td>\n",
       "      <td>0.140562</td>\n",
       "      <td>-0.034304</td>\n",
       "      <td>-0.009085</td>\n",
       "      <td>0.124160</td>\n",
       "      <td>0.016060</td>\n",
       "      <td>0.056501</td>\n",
       "      <td>0.084926</td>\n",
       "      <td>-0.391360</td>\n",
       "      <td>0</td>\n",
       "    </tr>\n",
       "    <tr>\n",
       "      <th>3</th>\n",
       "      <td>4</td>\n",
       "      <td>0.200392</td>\n",
       "      <td>0.089338</td>\n",
       "      <td>-0.028816</td>\n",
       "      <td>-0.677822</td>\n",
       "      <td>-0.408118</td>\n",
       "      <td>-0.296556</td>\n",
       "      <td>-0.230510</td>\n",
       "      <td>-0.203587</td>\n",
       "      <td>-0.201216</td>\n",
       "      <td>...</td>\n",
       "      <td>-0.009858</td>\n",
       "      <td>0.140562</td>\n",
       "      <td>0.162615</td>\n",
       "      <td>-0.009085</td>\n",
       "      <td>-0.076846</td>\n",
       "      <td>0.016060</td>\n",
       "      <td>0.056501</td>\n",
       "      <td>0.084926</td>\n",
       "      <td>-0.119586</td>\n",
       "      <td>0</td>\n",
       "    </tr>\n",
       "    <tr>\n",
       "      <th>4</th>\n",
       "      <td>5</td>\n",
       "      <td>0.200392</td>\n",
       "      <td>0.089338</td>\n",
       "      <td>0.156679</td>\n",
       "      <td>-0.308169</td>\n",
       "      <td>-0.408118</td>\n",
       "      <td>-0.417749</td>\n",
       "      <td>-0.230510</td>\n",
       "      <td>-0.203587</td>\n",
       "      <td>-0.201216</td>\n",
       "      <td>...</td>\n",
       "      <td>-0.009858</td>\n",
       "      <td>0.140562</td>\n",
       "      <td>-0.034304</td>\n",
       "      <td>-0.009085</td>\n",
       "      <td>-1.078550</td>\n",
       "      <td>-0.372758</td>\n",
       "      <td>-0.457199</td>\n",
       "      <td>0.084926</td>\n",
       "      <td>0.257636</td>\n",
       "      <td>0</td>\n",
       "    </tr>\n",
       "  </tbody>\n",
       "</table>\n",
       "<p>5 rows × 23 columns</p>\n",
       "</div>"
      ],
      "text/plain": [
       "   ID  LIMIT_BAL  EDUCATION       AGE     PAY_0     PAY_2     PAY_3     PAY_4  \\\n",
       "0   1   0.666522   0.089338  0.260065  2.019269  1.459809 -0.417749 -0.383479   \n",
       "1   2  -0.034630   0.089338 -0.100163 -0.308169  1.459809 -0.296556 -0.230510   \n",
       "2   3   0.108342   0.089338 -0.028816 -0.677822 -0.408118 -0.296556 -0.230510   \n",
       "3   4   0.200392   0.089338 -0.028816 -0.677822 -0.408118 -0.296556 -0.230510   \n",
       "4   5   0.200392   0.089338  0.156679 -0.308169 -0.408118 -0.417749 -0.230510   \n",
       "\n",
       "      PAY_5     PAY_6  ...  BILL_AMT4  BILL_AMT5  BILL_AMT6  PAY_AMT1  \\\n",
       "0 -0.146325 -0.117947  ...   0.028510  -0.006521  -0.034304  0.662394   \n",
       "1 -0.203587  1.282840  ...  -0.009858  -0.239312  -0.034304  0.662394   \n",
       "2 -0.203587 -0.201216  ...  -0.009858   0.140562  -0.034304 -0.009085   \n",
       "3 -0.203587 -0.201216  ...  -0.009858   0.140562   0.162615 -0.009085   \n",
       "4 -0.203587 -0.201216  ...  -0.009858   0.140562  -0.034304 -0.009085   \n",
       "\n",
       "   PAY_AMT2  PAY_AMT3  PAY_AMT4  PAY_AMT5  PAY_AMT6  label  \n",
       "0  0.124160  0.488183  0.454327  0.370272  0.343887      1  \n",
       "1  0.124160  0.016060  0.056501  0.370272 -0.082401      1  \n",
       "2  0.124160  0.016060  0.056501  0.084926 -0.391360      0  \n",
       "3 -0.076846  0.016060  0.056501  0.084926 -0.119586      0  \n",
       "4 -1.078550 -0.372758 -0.457199  0.084926  0.257636      0  \n",
       "\n",
       "[5 rows x 23 columns]"
      ]
     },
     "execution_count": 39,
     "metadata": {},
     "output_type": "execute_result"
    }
   ],
   "source": [
    "train_woe.head()"
   ]
  },
  {
   "cell_type": "code",
   "execution_count": 40,
   "id": "77e0d608",
   "metadata": {},
   "outputs": [
    {
     "data": {
      "text/html": [
       "<div>\n",
       "<style scoped>\n",
       "    .dataframe tbody tr th:only-of-type {\n",
       "        vertical-align: middle;\n",
       "    }\n",
       "\n",
       "    .dataframe tbody tr th {\n",
       "        vertical-align: top;\n",
       "    }\n",
       "\n",
       "    .dataframe thead th {\n",
       "        text-align: right;\n",
       "    }\n",
       "</style>\n",
       "<table border=\"1\" class=\"dataframe\">\n",
       "  <thead>\n",
       "    <tr style=\"text-align: right;\">\n",
       "      <th></th>\n",
       "      <th>ID</th>\n",
       "      <th>LIMIT_BAL</th>\n",
       "      <th>EDUCATION</th>\n",
       "      <th>AGE</th>\n",
       "      <th>PAY_0</th>\n",
       "      <th>PAY_2</th>\n",
       "      <th>PAY_3</th>\n",
       "      <th>PAY_4</th>\n",
       "      <th>PAY_5</th>\n",
       "      <th>PAY_6</th>\n",
       "      <th>...</th>\n",
       "      <th>BILL_AMT4</th>\n",
       "      <th>BILL_AMT5</th>\n",
       "      <th>BILL_AMT6</th>\n",
       "      <th>PAY_AMT1</th>\n",
       "      <th>PAY_AMT2</th>\n",
       "      <th>PAY_AMT3</th>\n",
       "      <th>PAY_AMT4</th>\n",
       "      <th>PAY_AMT5</th>\n",
       "      <th>PAY_AMT6</th>\n",
       "      <th>label</th>\n",
       "    </tr>\n",
       "  </thead>\n",
       "  <tbody>\n",
       "    <tr>\n",
       "      <th>0</th>\n",
       "      <td>22500</td>\n",
       "      <td>-0.693420</td>\n",
       "      <td>0.089338</td>\n",
       "      <td>-0.028816</td>\n",
       "      <td>-0.677822</td>\n",
       "      <td>-0.408118</td>\n",
       "      <td>-0.296556</td>\n",
       "      <td>-0.383479</td>\n",
       "      <td>-0.203587</td>\n",
       "      <td>-0.201216</td>\n",
       "      <td>...</td>\n",
       "      <td>-0.009858</td>\n",
       "      <td>-0.068485</td>\n",
       "      <td>-0.088061</td>\n",
       "      <td>-0.585644</td>\n",
       "      <td>-0.076846</td>\n",
       "      <td>-0.372758</td>\n",
       "      <td>-0.457199</td>\n",
       "      <td>-0.188927</td>\n",
       "      <td>-0.391360</td>\n",
       "      <td>0</td>\n",
       "    </tr>\n",
       "    <tr>\n",
       "      <th>1</th>\n",
       "      <td>22501</td>\n",
       "      <td>-0.280994</td>\n",
       "      <td>0.089338</td>\n",
       "      <td>-0.197887</td>\n",
       "      <td>-0.308169</td>\n",
       "      <td>-0.408118</td>\n",
       "      <td>-0.417749</td>\n",
       "      <td>-0.383479</td>\n",
       "      <td>-0.396177</td>\n",
       "      <td>-0.335730</td>\n",
       "      <td>...</td>\n",
       "      <td>-0.009858</td>\n",
       "      <td>-0.006521</td>\n",
       "      <td>-0.034304</td>\n",
       "      <td>0.662394</td>\n",
       "      <td>0.124160</td>\n",
       "      <td>-0.372758</td>\n",
       "      <td>-0.106759</td>\n",
       "      <td>-0.188927</td>\n",
       "      <td>-0.082401</td>\n",
       "      <td>0</td>\n",
       "    </tr>\n",
       "    <tr>\n",
       "      <th>2</th>\n",
       "      <td>22502</td>\n",
       "      <td>-0.436625</td>\n",
       "      <td>-0.174478</td>\n",
       "      <td>-0.197887</td>\n",
       "      <td>-0.677822</td>\n",
       "      <td>-0.408118</td>\n",
       "      <td>-0.296556</td>\n",
       "      <td>-0.230510</td>\n",
       "      <td>-0.203587</td>\n",
       "      <td>-0.201216</td>\n",
       "      <td>...</td>\n",
       "      <td>-0.009858</td>\n",
       "      <td>-0.068485</td>\n",
       "      <td>0.162615</td>\n",
       "      <td>-0.009085</td>\n",
       "      <td>-0.076846</td>\n",
       "      <td>0.016060</td>\n",
       "      <td>-0.106759</td>\n",
       "      <td>-0.188927</td>\n",
       "      <td>-0.082401</td>\n",
       "      <td>0</td>\n",
       "    </tr>\n",
       "    <tr>\n",
       "      <th>3</th>\n",
       "      <td>22503</td>\n",
       "      <td>0.200392</td>\n",
       "      <td>0.089338</td>\n",
       "      <td>-0.028816</td>\n",
       "      <td>-0.677822</td>\n",
       "      <td>-0.408118</td>\n",
       "      <td>1.305413</td>\n",
       "      <td>1.370613</td>\n",
       "      <td>1.443205</td>\n",
       "      <td>-0.201216</td>\n",
       "      <td>...</td>\n",
       "      <td>-0.009858</td>\n",
       "      <td>0.140562</td>\n",
       "      <td>0.162615</td>\n",
       "      <td>-0.009085</td>\n",
       "      <td>-0.076846</td>\n",
       "      <td>0.488183</td>\n",
       "      <td>0.454327</td>\n",
       "      <td>0.084926</td>\n",
       "      <td>0.257636</td>\n",
       "      <td>1</td>\n",
       "    </tr>\n",
       "    <tr>\n",
       "      <th>4</th>\n",
       "      <td>22504</td>\n",
       "      <td>-0.436625</td>\n",
       "      <td>0.089338</td>\n",
       "      <td>-0.197887</td>\n",
       "      <td>-0.677822</td>\n",
       "      <td>-0.408118</td>\n",
       "      <td>-0.296556</td>\n",
       "      <td>-0.230510</td>\n",
       "      <td>-0.203587</td>\n",
       "      <td>-0.201216</td>\n",
       "      <td>...</td>\n",
       "      <td>-0.009858</td>\n",
       "      <td>-0.068485</td>\n",
       "      <td>-0.088061</td>\n",
       "      <td>-0.585644</td>\n",
       "      <td>-0.407943</td>\n",
       "      <td>-0.372758</td>\n",
       "      <td>-0.457199</td>\n",
       "      <td>-0.188927</td>\n",
       "      <td>-0.391360</td>\n",
       "      <td>1</td>\n",
       "    </tr>\n",
       "  </tbody>\n",
       "</table>\n",
       "<p>5 rows × 23 columns</p>\n",
       "</div>"
      ],
      "text/plain": [
       "      ID  LIMIT_BAL  EDUCATION       AGE     PAY_0     PAY_2     PAY_3  \\\n",
       "0  22500  -0.693420   0.089338 -0.028816 -0.677822 -0.408118 -0.296556   \n",
       "1  22501  -0.280994   0.089338 -0.197887 -0.308169 -0.408118 -0.417749   \n",
       "2  22502  -0.436625  -0.174478 -0.197887 -0.677822 -0.408118 -0.296556   \n",
       "3  22503   0.200392   0.089338 -0.028816 -0.677822 -0.408118  1.305413   \n",
       "4  22504  -0.436625   0.089338 -0.197887 -0.677822 -0.408118 -0.296556   \n",
       "\n",
       "      PAY_4     PAY_5     PAY_6  ...  BILL_AMT4  BILL_AMT5  BILL_AMT6  \\\n",
       "0 -0.383479 -0.203587 -0.201216  ...  -0.009858  -0.068485  -0.088061   \n",
       "1 -0.383479 -0.396177 -0.335730  ...  -0.009858  -0.006521  -0.034304   \n",
       "2 -0.230510 -0.203587 -0.201216  ...  -0.009858  -0.068485   0.162615   \n",
       "3  1.370613  1.443205 -0.201216  ...  -0.009858   0.140562   0.162615   \n",
       "4 -0.230510 -0.203587 -0.201216  ...  -0.009858  -0.068485  -0.088061   \n",
       "\n",
       "   PAY_AMT1  PAY_AMT2  PAY_AMT3  PAY_AMT4  PAY_AMT5  PAY_AMT6  label  \n",
       "0 -0.585644 -0.076846 -0.372758 -0.457199 -0.188927 -0.391360      0  \n",
       "1  0.662394  0.124160 -0.372758 -0.106759 -0.188927 -0.082401      0  \n",
       "2 -0.009085 -0.076846  0.016060 -0.106759 -0.188927 -0.082401      0  \n",
       "3 -0.009085 -0.076846  0.488183  0.454327  0.084926  0.257636      1  \n",
       "4 -0.585644 -0.407943 -0.372758 -0.457199 -0.188927 -0.391360      1  \n",
       "\n",
       "[5 rows x 23 columns]"
      ]
     },
     "execution_count": 40,
     "metadata": {},
     "output_type": "execute_result"
    }
   ],
   "source": [
    "test_woe.head()"
   ]
  },
  {
   "cell_type": "code",
   "execution_count": 41,
   "id": "5f251aa6",
   "metadata": {},
   "outputs": [],
   "source": [
    "final_data_woe = pd.concat([train_woe,test_woe])"
   ]
  },
  {
   "cell_type": "code",
   "execution_count": 42,
   "id": "d923e219",
   "metadata": {},
   "outputs": [],
   "source": [
    "# save 2: pickle woe_transform -\n",
    "filename = 'CreditScore_save2_woe_transform.pkl'\n",
    "pickle.dump(t,open(filename,'wb'))"
   ]
  },
  {
   "cell_type": "code",
   "execution_count": 43,
   "id": "1bf3cba6",
   "metadata": {},
   "outputs": [
    {
     "data": {
      "text/plain": [
       "35"
      ]
     },
     "execution_count": 43,
     "metadata": {},
     "output_type": "execute_result"
    }
   ],
   "source": [
    "len(filename)"
   ]
  },
  {
   "cell_type": "code",
   "execution_count": 44,
   "id": "95cbcfe1",
   "metadata": {},
   "outputs": [
    {
     "data": {
      "text/plain": [
       "'CreditScore_save2_woe_transform.pkl'"
      ]
     },
     "execution_count": 44,
     "metadata": {},
     "output_type": "execute_result"
    }
   ],
   "source": [
    "filename"
   ]
  },
  {
   "cell_type": "code",
   "execution_count": 45,
   "id": "fdfc9fb2",
   "metadata": {},
   "outputs": [],
   "source": [
    "features_use = [features for features in final_data_woe.columns if features not in exclude_list]"
   ]
  },
  {
   "cell_type": "code",
   "execution_count": 46,
   "id": "984b27ab",
   "metadata": {},
   "outputs": [
    {
     "data": {
      "text/plain": [
       "21"
      ]
     },
     "execution_count": 46,
     "metadata": {},
     "output_type": "execute_result"
    }
   ],
   "source": [
    "len(features_use)"
   ]
  },
  {
   "cell_type": "code",
   "execution_count": 47,
   "id": "d051e993",
   "metadata": {},
   "outputs": [
    {
     "data": {
      "text/plain": [
       "['LIMIT_BAL',\n",
       " 'EDUCATION',\n",
       " 'AGE',\n",
       " 'PAY_0',\n",
       " 'PAY_2',\n",
       " 'PAY_3',\n",
       " 'PAY_4',\n",
       " 'PAY_5',\n",
       " 'PAY_6',\n",
       " 'BILL_AMT1',\n",
       " 'BILL_AMT2',\n",
       " 'BILL_AMT3',\n",
       " 'BILL_AMT4',\n",
       " 'BILL_AMT5',\n",
       " 'BILL_AMT6',\n",
       " 'PAY_AMT1',\n",
       " 'PAY_AMT2',\n",
       " 'PAY_AMT3',\n",
       " 'PAY_AMT4',\n",
       " 'PAY_AMT5',\n",
       " 'PAY_AMT6']"
      ]
     },
     "execution_count": 47,
     "metadata": {},
     "output_type": "execute_result"
    }
   ],
   "source": [
    "features_use"
   ]
  },
  {
   "cell_type": "markdown",
   "id": "99079d85",
   "metadata": {},
   "source": [
    "### Calcuate PSI (Population Stability Index) -\n",
    "#### PSI (Population Stability Index) reflects the stability of the distribution. We often use it to screen features and evaluate model stability. The industry level is to drop features with a PSI greater than 0.2\n",
    "\n",
    "#### PSI = SUM((%actual - %expected)*ln(%actual/%expected))"
   ]
  },
  {
   "cell_type": "code",
   "execution_count": 48,
   "id": "23505a13",
   "metadata": {},
   "outputs": [],
   "source": [
    "#get the feature name\n",
    "features_list = [feat for feat in train_woe.columns if feat not in exclude_list]\n",
    "#calculate PSI using toad\n",
    "psi_df = toad.metrics.PSI(train_woe[features_list], test_woe[features_list]).sort_values()\n",
    "#put into a dataframe\n",
    "psi_df = psi_df.reset_index()\n",
    "psi_df = psi_df.rename(columns = {'index' : 'feature',0:'psi'})"
   ]
  },
  {
   "cell_type": "code",
   "execution_count": 49,
   "id": "83501e4e",
   "metadata": {},
   "outputs": [
    {
     "data": {
      "text/html": [
       "<div>\n",
       "<style scoped>\n",
       "    .dataframe tbody tr th:only-of-type {\n",
       "        vertical-align: middle;\n",
       "    }\n",
       "\n",
       "    .dataframe tbody tr th {\n",
       "        vertical-align: top;\n",
       "    }\n",
       "\n",
       "    .dataframe thead th {\n",
       "        text-align: right;\n",
       "    }\n",
       "</style>\n",
       "<table border=\"1\" class=\"dataframe\">\n",
       "  <thead>\n",
       "    <tr style=\"text-align: right;\">\n",
       "      <th></th>\n",
       "      <th>feature</th>\n",
       "      <th>psi</th>\n",
       "    </tr>\n",
       "  </thead>\n",
       "  <tbody>\n",
       "    <tr>\n",
       "      <th>0</th>\n",
       "      <td>EDUCATION</td>\n",
       "      <td>0.000258</td>\n",
       "    </tr>\n",
       "    <tr>\n",
       "      <th>1</th>\n",
       "      <td>BILL_AMT4</td>\n",
       "      <td>0.000330</td>\n",
       "    </tr>\n",
       "    <tr>\n",
       "      <th>2</th>\n",
       "      <td>BILL_AMT6</td>\n",
       "      <td>0.001591</td>\n",
       "    </tr>\n",
       "    <tr>\n",
       "      <th>3</th>\n",
       "      <td>BILL_AMT5</td>\n",
       "      <td>0.002520</td>\n",
       "    </tr>\n",
       "    <tr>\n",
       "      <th>4</th>\n",
       "      <td>BILL_AMT1</td>\n",
       "      <td>0.002634</td>\n",
       "    </tr>\n",
       "    <tr>\n",
       "      <th>5</th>\n",
       "      <td>PAY_AMT5</td>\n",
       "      <td>0.003066</td>\n",
       "    </tr>\n",
       "    <tr>\n",
       "      <th>6</th>\n",
       "      <td>PAY_AMT1</td>\n",
       "      <td>0.003402</td>\n",
       "    </tr>\n",
       "    <tr>\n",
       "      <th>7</th>\n",
       "      <td>PAY_AMT4</td>\n",
       "      <td>0.004556</td>\n",
       "    </tr>\n",
       "    <tr>\n",
       "      <th>8</th>\n",
       "      <td>BILL_AMT2</td>\n",
       "      <td>0.005398</td>\n",
       "    </tr>\n",
       "    <tr>\n",
       "      <th>9</th>\n",
       "      <td>PAY_AMT6</td>\n",
       "      <td>0.007230</td>\n",
       "    </tr>\n",
       "    <tr>\n",
       "      <th>10</th>\n",
       "      <td>BILL_AMT3</td>\n",
       "      <td>0.007589</td>\n",
       "    </tr>\n",
       "    <tr>\n",
       "      <th>11</th>\n",
       "      <td>PAY_AMT2</td>\n",
       "      <td>0.010605</td>\n",
       "    </tr>\n",
       "    <tr>\n",
       "      <th>12</th>\n",
       "      <td>PAY_4</td>\n",
       "      <td>0.011666</td>\n",
       "    </tr>\n",
       "    <tr>\n",
       "      <th>13</th>\n",
       "      <td>PAY_3</td>\n",
       "      <td>0.011933</td>\n",
       "    </tr>\n",
       "    <tr>\n",
       "      <th>14</th>\n",
       "      <td>PAY_2</td>\n",
       "      <td>0.012077</td>\n",
       "    </tr>\n",
       "    <tr>\n",
       "      <th>15</th>\n",
       "      <td>PAY_5</td>\n",
       "      <td>0.014513</td>\n",
       "    </tr>\n",
       "    <tr>\n",
       "      <th>16</th>\n",
       "      <td>PAY_AMT3</td>\n",
       "      <td>0.016165</td>\n",
       "    </tr>\n",
       "    <tr>\n",
       "      <th>17</th>\n",
       "      <td>LIMIT_BAL</td>\n",
       "      <td>0.018541</td>\n",
       "    </tr>\n",
       "    <tr>\n",
       "      <th>18</th>\n",
       "      <td>PAY_6</td>\n",
       "      <td>0.019574</td>\n",
       "    </tr>\n",
       "    <tr>\n",
       "      <th>19</th>\n",
       "      <td>PAY_0</td>\n",
       "      <td>0.022814</td>\n",
       "    </tr>\n",
       "    <tr>\n",
       "      <th>20</th>\n",
       "      <td>AGE</td>\n",
       "      <td>0.035298</td>\n",
       "    </tr>\n",
       "  </tbody>\n",
       "</table>\n",
       "</div>"
      ],
      "text/plain": [
       "      feature       psi\n",
       "0   EDUCATION  0.000258\n",
       "1   BILL_AMT4  0.000330\n",
       "2   BILL_AMT6  0.001591\n",
       "3   BILL_AMT5  0.002520\n",
       "4   BILL_AMT1  0.002634\n",
       "5    PAY_AMT5  0.003066\n",
       "6    PAY_AMT1  0.003402\n",
       "7    PAY_AMT4  0.004556\n",
       "8   BILL_AMT2  0.005398\n",
       "9    PAY_AMT6  0.007230\n",
       "10  BILL_AMT3  0.007589\n",
       "11   PAY_AMT2  0.010605\n",
       "12      PAY_4  0.011666\n",
       "13      PAY_3  0.011933\n",
       "14      PAY_2  0.012077\n",
       "15      PAY_5  0.014513\n",
       "16   PAY_AMT3  0.016165\n",
       "17  LIMIT_BAL  0.018541\n",
       "18      PAY_6  0.019574\n",
       "19      PAY_0  0.022814\n",
       "20        AGE  0.035298"
      ]
     },
     "execution_count": 49,
     "metadata": {},
     "output_type": "execute_result"
    }
   ],
   "source": [
    "psi_df"
   ]
  },
  {
   "cell_type": "code",
   "execution_count": 50,
   "id": "db29bb13",
   "metadata": {},
   "outputs": [],
   "source": [
    "# features less than 0.25\n",
    "psi025 = list(psi_df[psi_df.psi<0.25].feature)\n",
    "# features geater than 0.25\n",
    "psi_remove = list(psi_df[psi_df.psi>=0.25].feature)"
   ]
  },
  {
   "cell_type": "code",
   "execution_count": 51,
   "id": "1f494e63",
   "metadata": {},
   "outputs": [
    {
     "data": {
      "text/plain": [
       "[]"
      ]
     },
     "execution_count": 51,
     "metadata": {},
     "output_type": "execute_result"
    }
   ],
   "source": [
    "psi_remove"
   ]
  },
  {
   "cell_type": "code",
   "execution_count": 52,
   "id": "2fb1530f",
   "metadata": {},
   "outputs": [],
   "source": [
    "# keep exclude list\n",
    "for i in exclude_list:\n",
    "    if i in psi025:\n",
    "        pass\n",
    "    else:\n",
    "       psi025.append(i)"
   ]
  },
  {
   "cell_type": "code",
   "execution_count": 53,
   "id": "f3dc033f",
   "metadata": {},
   "outputs": [],
   "source": [
    "# remove features that are geater than 0.25\n",
    "train_selected_woe_psi = train_woe[psi025]\n",
    "off_woe_psi = test_woe[psi025]"
   ]
  },
  {
   "cell_type": "code",
   "execution_count": 54,
   "id": "729addcf",
   "metadata": {},
   "outputs": [],
   "source": [
    "# output our final data table\n",
    "final_data_woe = pd.concat([train_selected_woe_psi,off_woe_psi])"
   ]
  },
  {
   "cell_type": "code",
   "execution_count": 55,
   "id": "6ed54f0c",
   "metadata": {},
   "outputs": [
    {
     "name": "stdout",
     "output_type": "stream",
     "text": [
      "(30000, 23)\n"
     ]
    }
   ],
   "source": [
    "print(final_data_woe.shape)"
   ]
  },
  {
   "cell_type": "code",
   "execution_count": 56,
   "id": "3a281982",
   "metadata": {},
   "outputs": [],
   "source": [
    "#save 3: final data table with transformed woe\n",
    "final_data_woe.to_csv('CreditScore_save3_final_data_woe.csv')"
   ]
  },
  {
   "cell_type": "markdown",
   "id": "e3073ebe",
   "metadata": {},
   "source": [
    "## 5. Output IV"
   ]
  },
  {
   "cell_type": "code",
   "execution_count": 57,
   "id": "aff53bb4",
   "metadata": {},
   "outputs": [
    {
     "data": {
      "text/plain": [
       "21"
      ]
     },
     "execution_count": 57,
     "metadata": {},
     "output_type": "execute_result"
    }
   ],
   "source": [
    "features_use = [feat for feat in final_data_woe.columns if feat not in exclude_list]\n",
    "len(features_use)"
   ]
  },
  {
   "cell_type": "code",
   "execution_count": 58,
   "id": "7f05409d",
   "metadata": {},
   "outputs": [],
   "source": [
    "df_iv=output_iv_importance(final_data_woe[features_use+['label']],'label')"
   ]
  },
  {
   "cell_type": "code",
   "execution_count": 59,
   "id": "665855da",
   "metadata": {},
   "outputs": [
    {
     "data": {
      "text/html": [
       "<div>\n",
       "<style scoped>\n",
       "    .dataframe tbody tr th:only-of-type {\n",
       "        vertical-align: middle;\n",
       "    }\n",
       "\n",
       "    .dataframe tbody tr th {\n",
       "        vertical-align: top;\n",
       "    }\n",
       "\n",
       "    .dataframe thead th {\n",
       "        text-align: right;\n",
       "    }\n",
       "</style>\n",
       "<table border=\"1\" class=\"dataframe\">\n",
       "  <thead>\n",
       "    <tr style=\"text-align: right;\">\n",
       "      <th></th>\n",
       "      <th>name</th>\n",
       "      <th>iv</th>\n",
       "    </tr>\n",
       "  </thead>\n",
       "  <tbody>\n",
       "    <tr>\n",
       "      <th>0</th>\n",
       "      <td>PAY_0</td>\n",
       "      <td>0.873565</td>\n",
       "    </tr>\n",
       "    <tr>\n",
       "      <th>1</th>\n",
       "      <td>PAY_2</td>\n",
       "      <td>0.546857</td>\n",
       "    </tr>\n",
       "    <tr>\n",
       "      <th>2</th>\n",
       "      <td>PAY_3</td>\n",
       "      <td>0.412420</td>\n",
       "    </tr>\n",
       "    <tr>\n",
       "      <th>3</th>\n",
       "      <td>PAY_4</td>\n",
       "      <td>0.359289</td>\n",
       "    </tr>\n",
       "    <tr>\n",
       "      <th>4</th>\n",
       "      <td>PAY_5</td>\n",
       "      <td>0.333734</td>\n",
       "    </tr>\n",
       "    <tr>\n",
       "      <th>5</th>\n",
       "      <td>PAY_6</td>\n",
       "      <td>0.285164</td>\n",
       "    </tr>\n",
       "    <tr>\n",
       "      <th>6</th>\n",
       "      <td>LIMIT_BAL</td>\n",
       "      <td>0.181621</td>\n",
       "    </tr>\n",
       "    <tr>\n",
       "      <th>7</th>\n",
       "      <td>PAY_AMT1</td>\n",
       "      <td>0.173425</td>\n",
       "    </tr>\n",
       "    <tr>\n",
       "      <th>8</th>\n",
       "      <td>PAY_AMT2</td>\n",
       "      <td>0.162703</td>\n",
       "    </tr>\n",
       "    <tr>\n",
       "      <th>9</th>\n",
       "      <td>PAY_AMT3</td>\n",
       "      <td>0.114630</td>\n",
       "    </tr>\n",
       "    <tr>\n",
       "      <th>10</th>\n",
       "      <td>PAY_AMT4</td>\n",
       "      <td>0.104007</td>\n",
       "    </tr>\n",
       "    <tr>\n",
       "      <th>11</th>\n",
       "      <td>PAY_AMT6</td>\n",
       "      <td>0.101453</td>\n",
       "    </tr>\n",
       "    <tr>\n",
       "      <th>12</th>\n",
       "      <td>PAY_AMT5</td>\n",
       "      <td>0.087383</td>\n",
       "    </tr>\n",
       "    <tr>\n",
       "      <th>13</th>\n",
       "      <td>AGE</td>\n",
       "      <td>0.021193</td>\n",
       "    </tr>\n",
       "    <tr>\n",
       "      <th>14</th>\n",
       "      <td>EDUCATION</td>\n",
       "      <td>0.015987</td>\n",
       "    </tr>\n",
       "    <tr>\n",
       "      <th>15</th>\n",
       "      <td>BILL_AMT5</td>\n",
       "      <td>0.012865</td>\n",
       "    </tr>\n",
       "    <tr>\n",
       "      <th>16</th>\n",
       "      <td>BILL_AMT2</td>\n",
       "      <td>0.008361</td>\n",
       "    </tr>\n",
       "    <tr>\n",
       "      <th>17</th>\n",
       "      <td>BILL_AMT6</td>\n",
       "      <td>0.007382</td>\n",
       "    </tr>\n",
       "    <tr>\n",
       "      <th>18</th>\n",
       "      <td>BILL_AMT3</td>\n",
       "      <td>0.006877</td>\n",
       "    </tr>\n",
       "    <tr>\n",
       "      <th>19</th>\n",
       "      <td>BILL_AMT1</td>\n",
       "      <td>0.002872</td>\n",
       "    </tr>\n",
       "    <tr>\n",
       "      <th>20</th>\n",
       "      <td>BILL_AMT4</td>\n",
       "      <td>0.000979</td>\n",
       "    </tr>\n",
       "  </tbody>\n",
       "</table>\n",
       "</div>"
      ],
      "text/plain": [
       "         name        iv\n",
       "0       PAY_0  0.873565\n",
       "1       PAY_2  0.546857\n",
       "2       PAY_3  0.412420\n",
       "3       PAY_4  0.359289\n",
       "4       PAY_5  0.333734\n",
       "5       PAY_6  0.285164\n",
       "6   LIMIT_BAL  0.181621\n",
       "7    PAY_AMT1  0.173425\n",
       "8    PAY_AMT2  0.162703\n",
       "9    PAY_AMT3  0.114630\n",
       "10   PAY_AMT4  0.104007\n",
       "11   PAY_AMT6  0.101453\n",
       "12   PAY_AMT5  0.087383\n",
       "13        AGE  0.021193\n",
       "14  EDUCATION  0.015987\n",
       "15  BILL_AMT5  0.012865\n",
       "16  BILL_AMT2  0.008361\n",
       "17  BILL_AMT6  0.007382\n",
       "18  BILL_AMT3  0.006877\n",
       "19  BILL_AMT1  0.002872\n",
       "20  BILL_AMT4  0.000979"
      ]
     },
     "execution_count": 59,
     "metadata": {},
     "output_type": "execute_result"
    }
   ],
   "source": [
    "df_iv\n",
    "# the idea is to get teh features with the highest IV and lowest PSI"
   ]
  },
  {
   "cell_type": "code",
   "execution_count": 60,
   "id": "feef30b6",
   "metadata": {},
   "outputs": [],
   "source": [
    "# save 4: Information Value after WOE transformation -\n",
    "df_iv.to_csv('CreditScore_save4_IV.csv')"
   ]
  },
  {
   "cell_type": "markdown",
   "id": "a46deefb",
   "metadata": {},
   "source": [
    "# 6. Model Tuning"
   ]
  },
  {
   "cell_type": "code",
   "execution_count": 61,
   "id": "aaa5f615",
   "metadata": {},
   "outputs": [],
   "source": [
    "def check_train_test_auc(x_train,y_train,x_test,y_test):\n",
    "    from sklearn.linear_model import LogisticRegression\n",
    "    lr = LogisticRegression(random_state=42, C=0.1, penalty = 'l2', solver='newton-cg')\n",
    "    \n",
    "    lr = LogisticRegression(class_weight='balanced')\n",
    "    lr.fit(x_train,y_train)\n",
    "    \n",
    "    pred_train = lr.predict_proba(x_train)[:,1]\n",
    "    from toad.metrics import KS, AUC\n",
    "    \n",
    "    print('Train KS', KS(pred_train, y_train))\n",
    "    print('Train AUC',AUC(pred_train, y_train))\n",
    "    \n",
    "    pred_00T = lr.predict_proba(x_test)[:,1]\n",
    "    print('Test KS', KS(pred_00T, y_test))\n",
    "    print('Test AUC',AUC(pred_00T, y_test))\n",
    "    \n",
    "    from sklearn.metrics import confusion_matrix, accuracy_score, roc_auc_score, RocCurveDisplay, classification_report\n",
    "    \n",
    "    fig, ax = plt.subplots(figsize=(12, 8))\n",
    "    RocCurveDisplay.from_estimator(lr, x_test, y_test, color='blue', ax=ax)"
   ]
  },
  {
   "cell_type": "markdown",
   "id": "bb2aa8fe",
   "metadata": {},
   "source": [
    "### Logistic Regression\n",
    "The most used algorithm in the credit scorecard modeling process is Logistic Regression. The reasons are as follows:\n",
    "\n",
    "1. Simple linear relationship: the relationship between variables is a linear relationship\n",
    "\n",
    "2. Good Interpretability: the effect of input variables on target variables is readily available\n",
    "\n",
    "3. Give probabilities instead of discriminative classes: the customer’s characteristic information (such as marriage, age, historical credit performance, etc.) can be integrated and converted into a probability value, which provides an intuitive basis to predict whether the customer is good or bad. That is, the larger the value, the smaller the probability that the customer will default in the future.\n",
    "\n",
    "4. Easy to deploy: testing, deployment, monitoring, tuning, etc., are relatively simple"
   ]
  },
  {
   "cell_type": "code",
   "execution_count": 62,
   "id": "5a6acc07",
   "metadata": {},
   "outputs": [
    {
     "name": "stdout",
     "output_type": "stream",
     "text": [
      "Train KS 0.40988185783295383\n",
      "Train AUC 0.7703236150409505\n",
      "Test KS 0.4264763906414198\n",
      "Test AUC 0.7834656901108641\n"
     ]
    },
    {
     "data": {
      "image/png": "[encoded data removed]",
      "text/plain": [
       "<Figure size 1200x800 with 1 Axes>"
      ]
     },
     "metadata": {},
     "output_type": "display_data"
    }
   ],
   "source": [
    "# train & test :-\n",
    "\n",
    "check_train_test_auc(x_train = train_woe[features_use], y_train = train_woe['label'],\n",
    "                     x_test = test_woe[features_use], y_test = test_woe['label'])"
   ]
  },
  {
   "cell_type": "markdown",
   "id": "01084699",
   "metadata": {},
   "source": [
    "#### There is not a big difference between the train AUC and test AUC or train KS and test KS, i.e., model doe not overfit."
   ]
  },
  {
   "cell_type": "markdown",
   "id": "b6e294c1",
   "metadata": {},
   "source": [
    "## Train a GradientBoostingClassifier and check the feature importance table\n",
    "#### (to see if a GBDT model will perform better than LR and compare the feature importance table with IV)"
   ]
  },
  {
   "cell_type": "code",
   "execution_count": 63,
   "id": "afcf0597",
   "metadata": {},
   "outputs": [],
   "source": [
    "def get_evaluation_scores(label, predictions):\n",
    "    from sklearn.metrics import classification_report, confusion_matrix, accuracy_score\n",
    "    from sklearn.metrics import balanced_accuracy_score\n",
    "    tp, fn, fp, tn = confusion_matrix(label,predictions,labels=[1,0]).reshape(-1)\n",
    "    print('True Positive：',tp)\n",
    "    print('True Negative：',tn)\n",
    "    print('False Positive：',fp)\n",
    "    print('False Negative：',fn)\n",
    "    accuracy = (tp+tn)/(tp+fn+fp+tn)\n",
    "    print('accuracy: ',accuracy)\n",
    "    recall = tp/(tp+fn)\n",
    "    print('（recall）: ',recall)\n",
    "    precision = tp/(tp+fp)\n",
    "    print('（precision）: ',precision)\n",
    "    #f1 score = 2*(P*R)/(P+R)\n",
    "    f1 = 2*precision*recall/(precision+recall)\n",
    "    print('F1 score: ',f1)\n",
    "    \n",
    "    print(classification_report(label, predictions))\n",
    "    \n",
    "    print('balanced_accuracy_score: ',balanced_accuracy_score(label,predictions))\n",
    "    return precision, recall\n",
    "\n",
    "def evaluate_result(df_train,df_test,features_name):\n",
    "    from sklearn.ensemble import AdaBoostClassifier, GradientBoostingClassifier, RandomForestClassifier, ExtraTreesClassifier\n",
    "    import seaborn as sns\n",
    "    import matplotlib.pyplot as plt\n",
    "    start = time.time()\n",
    "    x_train = df_train[features_name]\n",
    "    y_train = df_train['label']\n",
    "\n",
    "    x_test  = df_test[features_name]\n",
    "    y_test  = df_test['label']\n",
    "\n",
    "    model = GradientBoostingClassifier(n_estimators=250,random_state=0)\n",
    "    model.fit(x_train,y_train)\n",
    "    predictions = model.predict(x_test)\n",
    "    get_evaluation_scores(label = y_test, predictions=predictions)\n",
    "    feat_importances = pd.Series(model.feature_importances_, index=features_name)\n",
    "    feat_importances=pd.DataFrame(feat_importances).reset_index()\n",
    "    feat_importances.columns=['feature_name','feature_importance']\n",
    "    feat_importances=feat_importances.sort_values(['feature_importance'],ascending=False)\n",
    "    import matplotlib.pyplot as plt\n",
    "    plt.figure(figsize=(15,15))\n",
    "\n",
    "    sns_plot1=sns.barplot(x=feat_importances.feature_importance,y=feat_importances.feature_name,estimator=sum)\n",
    "    plt.title(\"Features Importance\",size=18)\n",
    "    plt.ylabel('', size = 15)\n",
    "    plt.tick_params(labelsize=18)\n",
    "    return feat_importances,model,x_train,y_train,x_test,y_test"
   ]
  },
  {
   "cell_type": "code",
   "execution_count": 64,
   "id": "d2a156f5",
   "metadata": {},
   "outputs": [
    {
     "name": "stdout",
     "output_type": "stream",
     "text": [
      "True Positive： 542\n",
      "True Negative： 5725\n",
      "False Positive： 228\n",
      "False Negative： 1006\n",
      "accuracy:  0.8354886015197973\n",
      "（recall）:  0.35012919896640826\n",
      "（precision）:  0.7038961038961039\n",
      "F1 score:  0.46764452113891286\n",
      "              precision    recall  f1-score   support\n",
      "\n",
      "           0       0.85      0.96      0.90      5953\n",
      "           1       0.70      0.35      0.47      1548\n",
      "\n",
      "    accuracy                           0.84      7501\n",
      "   macro avg       0.78      0.66      0.69      7501\n",
      "weighted avg       0.82      0.84      0.81      7501\n",
      "\n",
      "balanced_accuracy_score:  0.6559145910840776\n"
     ]
    },
    {
     "data": {
      "image/png": "[encoded data removed]",
      "text/plain": [
       "<Figure size 1500x1500 with 1 Axes>"
      ]
     },
     "metadata": {},
     "output_type": "display_data"
    }
   ],
   "source": [
    "fet_importance_GBDT_reason,model,x_train,y_train,x_test,y_test = evaluate_result(df_train=train_woe,\n",
    "                df_test=test_woe,\n",
    "                features_name=features_use)"
   ]
  },
  {
   "cell_type": "markdown",
   "id": "2c1c8148",
   "metadata": {},
   "source": [
    "#### From above graph, we can observe that Gradient Booster Decision Tree (GBDT) puts a lot of weight (~65%) on the PAY_0 feature."
   ]
  },
  {
   "cell_type": "code",
   "execution_count": 65,
   "id": "69ed5ab6",
   "metadata": {},
   "outputs": [
    {
     "data": {
      "text/html": [
       "<div>\n",
       "<style scoped>\n",
       "    .dataframe tbody tr th:only-of-type {\n",
       "        vertical-align: middle;\n",
       "    }\n",
       "\n",
       "    .dataframe tbody tr th {\n",
       "        vertical-align: top;\n",
       "    }\n",
       "\n",
       "    .dataframe thead th {\n",
       "        text-align: right;\n",
       "    }\n",
       "</style>\n",
       "<table border=\"1\" class=\"dataframe\">\n",
       "  <thead>\n",
       "    <tr style=\"text-align: right;\">\n",
       "      <th></th>\n",
       "      <th>feature_name</th>\n",
       "      <th>feature_importance</th>\n",
       "    </tr>\n",
       "  </thead>\n",
       "  <tbody>\n",
       "    <tr>\n",
       "      <th>19</th>\n",
       "      <td>PAY_0</td>\n",
       "      <td>0.641879</td>\n",
       "    </tr>\n",
       "    <tr>\n",
       "      <th>14</th>\n",
       "      <td>PAY_2</td>\n",
       "      <td>0.080198</td>\n",
       "    </tr>\n",
       "    <tr>\n",
       "      <th>13</th>\n",
       "      <td>PAY_3</td>\n",
       "      <td>0.044386</td>\n",
       "    </tr>\n",
       "    <tr>\n",
       "      <th>17</th>\n",
       "      <td>LIMIT_BAL</td>\n",
       "      <td>0.030078</td>\n",
       "    </tr>\n",
       "    <tr>\n",
       "      <th>11</th>\n",
       "      <td>PAY_AMT2</td>\n",
       "      <td>0.028890</td>\n",
       "    </tr>\n",
       "    <tr>\n",
       "      <th>15</th>\n",
       "      <td>PAY_5</td>\n",
       "      <td>0.027666</td>\n",
       "    </tr>\n",
       "    <tr>\n",
       "      <th>12</th>\n",
       "      <td>PAY_4</td>\n",
       "      <td>0.023903</td>\n",
       "    </tr>\n",
       "    <tr>\n",
       "      <th>18</th>\n",
       "      <td>PAY_6</td>\n",
       "      <td>0.019000</td>\n",
       "    </tr>\n",
       "    <tr>\n",
       "      <th>6</th>\n",
       "      <td>PAY_AMT1</td>\n",
       "      <td>0.018523</td>\n",
       "    </tr>\n",
       "    <tr>\n",
       "      <th>9</th>\n",
       "      <td>PAY_AMT6</td>\n",
       "      <td>0.017613</td>\n",
       "    </tr>\n",
       "    <tr>\n",
       "      <th>16</th>\n",
       "      <td>PAY_AMT3</td>\n",
       "      <td>0.011601</td>\n",
       "    </tr>\n",
       "    <tr>\n",
       "      <th>7</th>\n",
       "      <td>PAY_AMT4</td>\n",
       "      <td>0.011289</td>\n",
       "    </tr>\n",
       "    <tr>\n",
       "      <th>20</th>\n",
       "      <td>AGE</td>\n",
       "      <td>0.008551</td>\n",
       "    </tr>\n",
       "    <tr>\n",
       "      <th>4</th>\n",
       "      <td>BILL_AMT1</td>\n",
       "      <td>0.006361</td>\n",
       "    </tr>\n",
       "    <tr>\n",
       "      <th>5</th>\n",
       "      <td>PAY_AMT5</td>\n",
       "      <td>0.006068</td>\n",
       "    </tr>\n",
       "    <tr>\n",
       "      <th>2</th>\n",
       "      <td>BILL_AMT6</td>\n",
       "      <td>0.005579</td>\n",
       "    </tr>\n",
       "    <tr>\n",
       "      <th>8</th>\n",
       "      <td>BILL_AMT2</td>\n",
       "      <td>0.004624</td>\n",
       "    </tr>\n",
       "    <tr>\n",
       "      <th>3</th>\n",
       "      <td>BILL_AMT5</td>\n",
       "      <td>0.004110</td>\n",
       "    </tr>\n",
       "    <tr>\n",
       "      <th>10</th>\n",
       "      <td>BILL_AMT3</td>\n",
       "      <td>0.004073</td>\n",
       "    </tr>\n",
       "    <tr>\n",
       "      <th>0</th>\n",
       "      <td>EDUCATION</td>\n",
       "      <td>0.003597</td>\n",
       "    </tr>\n",
       "    <tr>\n",
       "      <th>1</th>\n",
       "      <td>BILL_AMT4</td>\n",
       "      <td>0.002012</td>\n",
       "    </tr>\n",
       "  </tbody>\n",
       "</table>\n",
       "</div>"
      ],
      "text/plain": [
       "   feature_name  feature_importance\n",
       "19        PAY_0            0.641879\n",
       "14        PAY_2            0.080198\n",
       "13        PAY_3            0.044386\n",
       "17    LIMIT_BAL            0.030078\n",
       "11     PAY_AMT2            0.028890\n",
       "15        PAY_5            0.027666\n",
       "12        PAY_4            0.023903\n",
       "18        PAY_6            0.019000\n",
       "6      PAY_AMT1            0.018523\n",
       "9      PAY_AMT6            0.017613\n",
       "16     PAY_AMT3            0.011601\n",
       "7      PAY_AMT4            0.011289\n",
       "20          AGE            0.008551\n",
       "4     BILL_AMT1            0.006361\n",
       "5      PAY_AMT5            0.006068\n",
       "2     BILL_AMT6            0.005579\n",
       "8     BILL_AMT2            0.004624\n",
       "3     BILL_AMT5            0.004110\n",
       "10    BILL_AMT3            0.004073\n",
       "0     EDUCATION            0.003597\n",
       "1     BILL_AMT4            0.002012"
      ]
     },
     "execution_count": 65,
     "metadata": {},
     "output_type": "execute_result"
    }
   ],
   "source": [
    "fet_importance_GBDT_reason"
   ]
  },
  {
   "cell_type": "code",
   "execution_count": 66,
   "id": "c272b494-aade-4d09-b002-4e10decc6afb",
   "metadata": {},
   "outputs": [],
   "source": [
    "def plot_roc_pre_recall_curve(labels, probs):\n",
    "    from sklearn.metrics import precision_recall_curve\n",
    "    # Get ROC curve FPR and TPR from true labels vs score values\n",
    "    fpr, tpr, _ = roc_curve(labels, probs)\n",
    "\n",
    "    # Calculate ROC Area Under the Curve (AUC) from FPR and TPR data points\n",
    "    roc_auc = auc(fpr, tpr)\n",
    "\n",
    "    # Calculate precision and recall from true labels vs score values\n",
    "    precision, recall, _ = precision_recall_curve(labels, probs)\n",
    "\n",
    "    plt.figure(figsize=(8, 3))\n",
    "\n",
    "    plt.subplot(1,2,1)\n",
    "    lw = 2\n",
    "    plt.plot(fpr, tpr, color='darkorange', lw=lw, label='ROC curve (area = %0.4f)' % roc_auc)\n",
    "    plt.plot([0, 1], [0, 1], color='navy', lw=lw, linestyle='--')\n",
    "    plt.xlim([0.0, 1.0])\n",
    "    plt.ylim([0.0, 1.05])\n",
    "    plt.xlabel('False Positive Rate')\n",
    "    plt.ylabel('True Positive Rate')\n",
    "    plt.title('ROC Curve')\n",
    "    plt.legend(loc=\"lower right\")\n",
    "    plt.grid(True)\n",
    "\n",
    "    plt.subplot(1,2,2)\n",
    "    plt.step(recall, precision, color='orange', where='post')\n",
    "    # plt.fill_between(recall, precision, step='post', alpha=0.5, color='orange')\n",
    "    plt.xlabel('Recall')\n",
    "    plt.ylabel('Precision')\n",
    "    plt.ylim([0.0, 1.05])\n",
    "    plt.xlim([0.0, 1.0])\n",
    "    plt.title('Precision Recall Curve')\n",
    "    plt.grid(True)\n",
    "\n",
    "    left  = 0.125  # the left side of the subplots of the figure\n",
    "    right = 0.9    # the right side of the subplots of the figure\n",
    "    bottom = 0.1   # the bottom of the subplots of the figure \n",
    "    top = 0.9      # the top of the subplots of the figure\n",
    "    wspace = 0.5   # the amount of width reserved for blank space between subplots\n",
    "    hspace = 0.2   # the amount of height reserved for white space between subplots\n",
    "    plt.subplots_adjust(left, bottom, right, top, wspace, hspace)\n",
    "    plt.show()"
   ]
  },
  {
   "cell_type": "code",
   "execution_count": 68,
   "id": "80aee343-59fa-46ab-ad72-e77322abcfa5",
   "metadata": {},
   "outputs": [
    {
     "data": {
      "image/png": "[encoded data removed]",
      "text/plain": [
       "<Figure size 800x300 with 2 Axes>"
      ]
     },
     "metadata": {},
     "output_type": "display_data"
    }
   ],
   "source": [
    "probs = model.predict_proba(x_test)[:,1]\n",
    "sns.set(font_scale = 1)\n",
    "plot_roc_pre_recall_curve(y_test, probs)"
   ]
  },
  {
   "cell_type": "markdown",
   "id": "dc14df53-28d1-46d0-9eb8-93e0074c7870",
   "metadata": {},
   "source": [
    "#### The ROC curve and Precision Recall Curve both looks fine. Let's train our production model for Logistic Regression"
   ]
  },
  {
   "cell_type": "markdown",
   "id": "d583c73e-ad24-46ce-9bf1-e208e268700d",
   "metadata": {},
   "source": [
    "# 7. Model Production"
   ]
  },
  {
   "cell_type": "code",
   "execution_count": 71,
   "id": "388210b2-a35f-4264-a331-5ce960aa9211",
   "metadata": {},
   "outputs": [],
   "source": [
    "#prepare train & test data -\n",
    "x_train = train_woe[features_use]\n",
    "y_train=train_woe['label']\n",
    "x_test =test_woe[features_use] \n",
    "y_test = test_woe['label']"
   ]
  },
  {
   "cell_type": "code",
   "execution_count": 73,
   "id": "f37d82c6-9831-4434-a344-18a910f85efa",
   "metadata": {},
   "outputs": [
    {
     "data": {
      "text/html": [
       "<style>#sk-container-id-2 {color: black;background-color: white;}#sk-container-id-2 pre{padding: 0;}#sk-container-id-2 div.sk-toggleable {background-color: white;}#sk-container-id-2 label.sk-toggleable__label {cursor: pointer;display: block;width: 100%;margin-bottom: 0;padding: 0.3em;box-sizing: border-box;text-align: center;}#sk-container-id-2 label.sk-toggleable__label-arrow:before {content: \"▸\";float: left;margin-right: 0.25em;color: #696969;}#sk-container-id-2 label.sk-toggleable__label-arrow:hover:before {color: black;}#sk-container-id-2 div.sk-estimator:hover label.sk-toggleable__label-arrow:before {color: black;}#sk-container-id-2 div.sk-toggleable__content {max-height: 0;max-width: 0;overflow: hidden;text-align: left;background-color: #f0f8ff;}#sk-container-id-2 div.sk-toggleable__content pre {margin: 0.2em;color: black;border-radius: 0.25em;background-color: #f0f8ff;}#sk-container-id-2 input.sk-toggleable__control:checked~div.sk-toggleable__content {max-height: 200px;max-width: 100%;overflow: auto;}#sk-container-id-2 input.sk-toggleable__control:checked~label.sk-toggleable__label-arrow:before {content: \"▾\";}#sk-container-id-2 div.sk-estimator input.sk-toggleable__control:checked~label.sk-toggleable__label {background-color: #d4ebff;}#sk-container-id-2 div.sk-label input.sk-toggleable__control:checked~label.sk-toggleable__label {background-color: #d4ebff;}#sk-container-id-2 input.sk-hidden--visually {border: 0;clip: rect(1px 1px 1px 1px);clip: rect(1px, 1px, 1px, 1px);height: 1px;margin: -1px;overflow: hidden;padding: 0;position: absolute;width: 1px;}#sk-container-id-2 div.sk-estimator {font-family: monospace;background-color: #f0f8ff;border: 1px dotted black;border-radius: 0.25em;box-sizing: border-box;margin-bottom: 0.5em;}#sk-container-id-2 div.sk-estimator:hover {background-color: #d4ebff;}#sk-container-id-2 div.sk-parallel-item::after {content: \"\";width: 100%;border-bottom: 1px solid gray;flex-grow: 1;}#sk-container-id-2 div.sk-label:hover label.sk-toggleable__label {background-color: #d4ebff;}#sk-container-id-2 div.sk-serial::before {content: \"\";position: absolute;border-left: 1px solid gray;box-sizing: border-box;top: 0;bottom: 0;left: 50%;z-index: 0;}#sk-container-id-2 div.sk-serial {display: flex;flex-direction: column;align-items: center;background-color: white;padding-right: 0.2em;padding-left: 0.2em;position: relative;}#sk-container-id-2 div.sk-item {position: relative;z-index: 1;}#sk-container-id-2 div.sk-parallel {display: flex;align-items: stretch;justify-content: center;background-color: white;position: relative;}#sk-container-id-2 div.sk-item::before, #sk-container-id-2 div.sk-parallel-item::before {content: \"\";position: absolute;border-left: 1px solid gray;box-sizing: border-box;top: 0;bottom: 0;left: 50%;z-index: -1;}#sk-container-id-2 div.sk-parallel-item {display: flex;flex-direction: column;z-index: 1;position: relative;background-color: white;}#sk-container-id-2 div.sk-parallel-item:first-child::after {align-self: flex-end;width: 50%;}#sk-container-id-2 div.sk-parallel-item:last-child::after {align-self: flex-start;width: 50%;}#sk-container-id-2 div.sk-parallel-item:only-child::after {width: 0;}#sk-container-id-2 div.sk-dashed-wrapped {border: 1px dashed gray;margin: 0 0.4em 0.5em 0.4em;box-sizing: border-box;padding-bottom: 0.4em;background-color: white;}#sk-container-id-2 div.sk-label label {font-family: monospace;font-weight: bold;display: inline-block;line-height: 1.2em;}#sk-container-id-2 div.sk-label-container {text-align: center;}#sk-container-id-2 div.sk-container {/* jupyter's `normalize.less` sets `[hidden] { display: none; }` but bootstrap.min.css set `[hidden] { display: none !important; }` so we also need the `!important` here to be able to override the default hidden behavior on the sphinx rendered scikit-learn.org. See: https://github.com/scikit-learn/scikit-learn/issues/21755 */display: inline-block !important;position: relative;}#sk-container-id-2 div.sk-text-repr-fallback {display: none;}</style><div id=\"sk-container-id-2\" class=\"sk-top-container\"><div class=\"sk-text-repr-fallback\"><pre>LogisticRegression(class_weight=&#x27;balanced&#x27;)</pre><b>In a Jupyter environment, please rerun this cell to show the HTML representation or trust the notebook. <br />On GitHub, the HTML representation is unable to render, please try loading this page with nbviewer.org.</b></div><div class=\"sk-container\" hidden><div class=\"sk-item\"><div class=\"sk-estimator sk-toggleable\"><input class=\"sk-toggleable__control sk-hidden--visually\" id=\"sk-estimator-id-2\" type=\"checkbox\" checked><label for=\"sk-estimator-id-2\" class=\"sk-toggleable__label sk-toggleable__label-arrow\">LogisticRegression</label><div class=\"sk-toggleable__content\"><pre>LogisticRegression(class_weight=&#x27;balanced&#x27;)</pre></div></div></div></div></div>"
      ],
      "text/plain": [
       "LogisticRegression(class_weight='balanced')"
      ]
     },
     "execution_count": 73,
     "metadata": {},
     "output_type": "execute_result"
    }
   ],
   "source": [
    "#Train LR - \n",
    "lr = LogisticRegression(class_weight = 'balanced')\n",
    "lr.fit(x_train, y_train)"
   ]
  },
  {
   "cell_type": "code",
   "execution_count": 74,
   "id": "6c74198e-5e2d-403c-bb25-c8a36b39d8b0",
   "metadata": {},
   "outputs": [
    {
     "data": {
      "image/png": "[encoded data removed]",
      "text/plain": [
       "<Figure size 800x300 with 2 Axes>"
      ]
     },
     "metadata": {},
     "output_type": "display_data"
    }
   ],
   "source": [
    "# Check AUC - \n",
    "probs = lr.predict_proba(x_test)[:,1]\n",
    "sns.set(font_scale = 1)\n",
    "plot_roc_pre_recall_curve(y_test, probs)"
   ]
  },
  {
   "cell_type": "markdown",
   "id": "19306b43-c977-41bf-bb90-fb20bda65916",
   "metadata": {},
   "source": [
    "#### AUC of LR - 0.7835 and AUC of GBDT - 0.7892, so there is not a big difference between these models, so it's OK to use LR to build a scorecard."
   ]
  },
  {
   "cell_type": "markdown",
   "id": "817a18c3-98b8-40ed-9a03-8f0a4b2900dc",
   "metadata": {},
   "source": [
    "# 8. Scorecard Generation"
   ]
  },
  {
   "cell_type": "markdown",
   "id": "9bec6563-dd67-472e-aa21-f42432339dbd",
   "metadata": {},
   "source": [
    "The following parameters are the most important ones for Scorecard Tuning.\n",
    "* base_score = 1000\n",
    "* base_odds = 35\n",
    "* pdo = 80\n",
    "* rate = 2\n",
    "\n",
    "The actual meaning is that when the base odds are 35, the benchmark score is 1000, and when  the ratio is twice the benchmark, the benchmark score drops by 80 points."
   ]
  },
  {
   "cell_type": "code",
   "execution_count": 76,
   "id": "dd4bf3f7-3a53-4836-bbd4-eab416f061bb",
   "metadata": {},
   "outputs": [
    {
     "data": {
      "text/html": [
       "<style>#sk-container-id-3 {color: black;background-color: white;}#sk-container-id-3 pre{padding: 0;}#sk-container-id-3 div.sk-toggleable {background-color: white;}#sk-container-id-3 label.sk-toggleable__label {cursor: pointer;display: block;width: 100%;margin-bottom: 0;padding: 0.3em;box-sizing: border-box;text-align: center;}#sk-container-id-3 label.sk-toggleable__label-arrow:before {content: \"▸\";float: left;margin-right: 0.25em;color: #696969;}#sk-container-id-3 label.sk-toggleable__label-arrow:hover:before {color: black;}#sk-container-id-3 div.sk-estimator:hover label.sk-toggleable__label-arrow:before {color: black;}#sk-container-id-3 div.sk-toggleable__content {max-height: 0;max-width: 0;overflow: hidden;text-align: left;background-color: #f0f8ff;}#sk-container-id-3 div.sk-toggleable__content pre {margin: 0.2em;color: black;border-radius: 0.25em;background-color: #f0f8ff;}#sk-container-id-3 input.sk-toggleable__control:checked~div.sk-toggleable__content {max-height: 200px;max-width: 100%;overflow: auto;}#sk-container-id-3 input.sk-toggleable__control:checked~label.sk-toggleable__label-arrow:before {content: \"▾\";}#sk-container-id-3 div.sk-estimator input.sk-toggleable__control:checked~label.sk-toggleable__label {background-color: #d4ebff;}#sk-container-id-3 div.sk-label input.sk-toggleable__control:checked~label.sk-toggleable__label {background-color: #d4ebff;}#sk-container-id-3 input.sk-hidden--visually {border: 0;clip: rect(1px 1px 1px 1px);clip: rect(1px, 1px, 1px, 1px);height: 1px;margin: -1px;overflow: hidden;padding: 0;position: absolute;width: 1px;}#sk-container-id-3 div.sk-estimator {font-family: monospace;background-color: #f0f8ff;border: 1px dotted black;border-radius: 0.25em;box-sizing: border-box;margin-bottom: 0.5em;}#sk-container-id-3 div.sk-estimator:hover {background-color: #d4ebff;}#sk-container-id-3 div.sk-parallel-item::after {content: \"\";width: 100%;border-bottom: 1px solid gray;flex-grow: 1;}#sk-container-id-3 div.sk-label:hover label.sk-toggleable__label {background-color: #d4ebff;}#sk-container-id-3 div.sk-serial::before {content: \"\";position: absolute;border-left: 1px solid gray;box-sizing: border-box;top: 0;bottom: 0;left: 50%;z-index: 0;}#sk-container-id-3 div.sk-serial {display: flex;flex-direction: column;align-items: center;background-color: white;padding-right: 0.2em;padding-left: 0.2em;position: relative;}#sk-container-id-3 div.sk-item {position: relative;z-index: 1;}#sk-container-id-3 div.sk-parallel {display: flex;align-items: stretch;justify-content: center;background-color: white;position: relative;}#sk-container-id-3 div.sk-item::before, #sk-container-id-3 div.sk-parallel-item::before {content: \"\";position: absolute;border-left: 1px solid gray;box-sizing: border-box;top: 0;bottom: 0;left: 50%;z-index: -1;}#sk-container-id-3 div.sk-parallel-item {display: flex;flex-direction: column;z-index: 1;position: relative;background-color: white;}#sk-container-id-3 div.sk-parallel-item:first-child::after {align-self: flex-end;width: 50%;}#sk-container-id-3 div.sk-parallel-item:last-child::after {align-self: flex-start;width: 50%;}#sk-container-id-3 div.sk-parallel-item:only-child::after {width: 0;}#sk-container-id-3 div.sk-dashed-wrapped {border: 1px dashed gray;margin: 0 0.4em 0.5em 0.4em;box-sizing: border-box;padding-bottom: 0.4em;background-color: white;}#sk-container-id-3 div.sk-label label {font-family: monospace;font-weight: bold;display: inline-block;line-height: 1.2em;}#sk-container-id-3 div.sk-label-container {text-align: center;}#sk-container-id-3 div.sk-container {/* jupyter's `normalize.less` sets `[hidden] { display: none; }` but bootstrap.min.css set `[hidden] { display: none !important; }` so we also need the `!important` here to be able to override the default hidden behavior on the sphinx rendered scikit-learn.org. See: https://github.com/scikit-learn/scikit-learn/issues/21755 */display: inline-block !important;position: relative;}#sk-container-id-3 div.sk-text-repr-fallback {display: none;}</style><div id=\"sk-container-id-3\" class=\"sk-top-container\"><div class=\"sk-text-repr-fallback\"><pre>ScoreCard(base_score=1000,\n",
       "          combiner=&lt;toad.transform.Combiner object at 0x15eee7650&gt;, pdo=80,\n",
       "          transer=&lt;toad.transform.WOETransformer object at 0x15f079a90&gt;)</pre><b>In a Jupyter environment, please rerun this cell to show the HTML representation or trust the notebook. <br />On GitHub, the HTML representation is unable to render, please try loading this page with nbviewer.org.</b></div><div class=\"sk-container\" hidden><div class=\"sk-item\"><div class=\"sk-estimator sk-toggleable\"><input class=\"sk-toggleable__control sk-hidden--visually\" id=\"sk-estimator-id-3\" type=\"checkbox\" checked><label for=\"sk-estimator-id-3\" class=\"sk-toggleable__label sk-toggleable__label-arrow\">ScoreCard</label><div class=\"sk-toggleable__content\"><pre>ScoreCard(base_score=1000,\n",
       "          combiner=&lt;toad.transform.Combiner object at 0x15eee7650&gt;, pdo=80,\n",
       "          transer=&lt;toad.transform.WOETransformer object at 0x15f079a90&gt;)</pre></div></div></div></div></div>"
      ],
      "text/plain": [
       "ScoreCard(base_score=1000,\n",
       "          combiner=<toad.transform.Combiner object at 0x15eee7650>, pdo=80,\n",
       "          transer=<toad.transform.WOETransformer object at 0x15f079a90>)"
      ]
     },
     "execution_count": 76,
     "metadata": {},
     "output_type": "execute_result"
    }
   ],
   "source": [
    "# scorecard tuning\n",
    "card = toad.ScoreCard(\n",
    "    combiner = combiner,\n",
    "    transer = t,\n",
    "    class_weight = 'balanced',\n",
    "    C=0.1,\n",
    "    base_score = 1000,\n",
    "    base_odds = 35 ,\n",
    "    pdo = 80,\n",
    "    rate = 2\n",
    ")\n",
    "\n",
    "card.fit(train_woe[features_use], train_woe['label'])"
   ]
  },
  {
   "cell_type": "code",
   "execution_count": 83,
   "id": "c9265a41-3700-44f4-8b12-376cac5e6860",
   "metadata": {},
   "outputs": [],
   "source": [
    "# save 5: save the model to disk\n",
    "filename = 'CreditScore_save5_ScoreCard.pkl'\n",
    "pickle.dump(card, open(filename, 'wb'))"
   ]
  },
  {
   "cell_type": "code",
   "execution_count": 84,
   "id": "ed1a7ab2-cecf-4f35-9514-8e99894ec36d",
   "metadata": {},
   "outputs": [
    {
     "data": {
      "text/plain": [
       "count    7501.000000\n",
       "mean      627.437143\n",
       "std       113.055983\n",
       "min       173.540655\n",
       "25%       596.974091\n",
       "50%       659.897345\n",
       "75%       702.107780\n",
       "max       810.644058\n",
       "Name: CreditScore, dtype: float64"
      ]
     },
     "execution_count": 84,
     "metadata": {},
     "output_type": "execute_result"
    }
   ],
   "source": [
    "#inference on test data\n",
    "test['CreditScore'] = card.predict(test)\n",
    "test['CreditScore'].describe()"
   ]
  },
  {
   "cell_type": "code",
   "execution_count": 85,
   "id": "3f6e8ee6-254c-446a-b20e-ec75a7b0dbd9",
   "metadata": {},
   "outputs": [
    {
     "data": {
      "text/plain": [
       "count    30000.000000\n",
       "mean       617.559238\n",
       "std        118.265235\n",
       "min        168.851703\n",
       "25%        578.204047\n",
       "50%        654.175758\n",
       "75%        696.461008\n",
       "max        818.460370\n",
       "Name: CreditScore, dtype: float64"
      ]
     },
     "execution_count": 85,
     "metadata": {},
     "output_type": "execute_result"
    }
   ],
   "source": [
    "#inference on whole data\n",
    "data['CreditScore'] = card.predict(data)\n",
    "data['CreditScore'].describe()"
   ]
  },
  {
   "cell_type": "code",
   "execution_count": 87,
   "id": "398f2456-adc6-464d-a6ab-1c3634d9dcfe",
   "metadata": {},
   "outputs": [
    {
     "data": {
      "text/plain": [
       "21"
      ]
     },
     "execution_count": 87,
     "metadata": {},
     "output_type": "execute_result"
    }
   ],
   "source": [
    "#output the scorecard\n",
    "final_card_score=card.export()\n",
    "len(final_card_score)"
   ]
  },
  {
   "cell_type": "code",
   "execution_count": 95,
   "id": "2f3b4436-66c5-43d1-82ab-77567cc13128",
   "metadata": {},
   "outputs": [
    {
     "data": {
      "text/html": [
       "<div>\n",
       "<style scoped>\n",
       "    .dataframe tbody tr th:only-of-type {\n",
       "        vertical-align: middle;\n",
       "    }\n",
       "\n",
       "    .dataframe tbody tr th {\n",
       "        vertical-align: top;\n",
       "    }\n",
       "\n",
       "    .dataframe thead th {\n",
       "        text-align: right;\n",
       "    }\n",
       "</style>\n",
       "<table border=\"1\" class=\"dataframe\">\n",
       "  <thead>\n",
       "    <tr style=\"text-align: right;\">\n",
       "      <th></th>\n",
       "      <th>variable</th>\n",
       "      <th>binning</th>\n",
       "      <th>score</th>\n",
       "    </tr>\n",
       "  </thead>\n",
       "  <tbody>\n",
       "    <tr>\n",
       "      <th>0</th>\n",
       "      <td>EDUCATION</td>\n",
       "      <td>[-inf ~ 2)</td>\n",
       "      <td>29.66</td>\n",
       "    </tr>\n",
       "    <tr>\n",
       "      <th>1</th>\n",
       "      <td>EDUCATION</td>\n",
       "      <td>[2 ~ inf)</td>\n",
       "      <td>27.20</td>\n",
       "    </tr>\n",
       "    <tr>\n",
       "      <th>2</th>\n",
       "      <td>BILL_AMT4</td>\n",
       "      <td>[-inf ~ 2501.0)</td>\n",
       "      <td>28.21</td>\n",
       "    </tr>\n",
       "    <tr>\n",
       "      <th>3</th>\n",
       "      <td>BILL_AMT4</td>\n",
       "      <td>[2501.0 ~ inf)</td>\n",
       "      <td>27.97</td>\n",
       "    </tr>\n",
       "    <tr>\n",
       "      <th>4</th>\n",
       "      <td>BILL_AMT6</td>\n",
       "      <td>[-inf ~ 19195.0)</td>\n",
       "      <td>27.33</td>\n",
       "    </tr>\n",
       "    <tr>\n",
       "      <th>5</th>\n",
       "      <td>BILL_AMT6</td>\n",
       "      <td>[19195.0 ~ 50442.0)</td>\n",
       "      <td>31.37</td>\n",
       "    </tr>\n",
       "    <tr>\n",
       "      <th>6</th>\n",
       "      <td>BILL_AMT6</td>\n",
       "      <td>[50442.0 ~ inf)</td>\n",
       "      <td>26.23</td>\n",
       "    </tr>\n",
       "    <tr>\n",
       "      <th>7</th>\n",
       "      <td>BILL_AMT5</td>\n",
       "      <td>[-inf ~ 2395.0)</td>\n",
       "      <td>28.16</td>\n",
       "    </tr>\n",
       "    <tr>\n",
       "      <th>8</th>\n",
       "      <td>BILL_AMT5</td>\n",
       "      <td>[2395.0 ~ 8110.0)</td>\n",
       "      <td>32.85</td>\n",
       "    </tr>\n",
       "    <tr>\n",
       "      <th>9</th>\n",
       "      <td>BILL_AMT5</td>\n",
       "      <td>[8110.0 ~ 35288.0)</td>\n",
       "      <td>25.20</td>\n",
       "    </tr>\n",
       "    <tr>\n",
       "      <th>10</th>\n",
       "      <td>BILL_AMT5</td>\n",
       "      <td>[35288.0 ~ inf)</td>\n",
       "      <td>29.41</td>\n",
       "    </tr>\n",
       "    <tr>\n",
       "      <th>11</th>\n",
       "      <td>BILL_AMT1</td>\n",
       "      <td>[-inf ~ 2501.0)</td>\n",
       "      <td>25.09</td>\n",
       "    </tr>\n",
       "    <tr>\n",
       "      <th>12</th>\n",
       "      <td>BILL_AMT1</td>\n",
       "      <td>[2501.0 ~ inf)</td>\n",
       "      <td>28.87</td>\n",
       "    </tr>\n",
       "    <tr>\n",
       "      <th>13</th>\n",
       "      <td>PAY_AMT5</td>\n",
       "      <td>[-inf ~ 1.0)</td>\n",
       "      <td>23.01</td>\n",
       "    </tr>\n",
       "    <tr>\n",
       "      <th>14</th>\n",
       "      <td>PAY_AMT5</td>\n",
       "      <td>[1.0 ~ 1880.0)</td>\n",
       "      <td>26.88</td>\n",
       "    </tr>\n",
       "    <tr>\n",
       "      <th>15</th>\n",
       "      <td>PAY_AMT5</td>\n",
       "      <td>[1880.0 ~ 10000.0)</td>\n",
       "      <td>30.60</td>\n",
       "    </tr>\n",
       "    <tr>\n",
       "      <th>16</th>\n",
       "      <td>PAY_AMT5</td>\n",
       "      <td>[10000.0 ~ inf)</td>\n",
       "      <td>37.59</td>\n",
       "    </tr>\n",
       "    <tr>\n",
       "      <th>17</th>\n",
       "      <td>PAY_AMT1</td>\n",
       "      <td>[-inf ~ 6.0)</td>\n",
       "      <td>11.44</td>\n",
       "    </tr>\n",
       "    <tr>\n",
       "      <th>18</th>\n",
       "      <td>PAY_AMT1</td>\n",
       "      <td>[6.0 ~ 4902.0)</td>\n",
       "      <td>28.26</td>\n",
       "    </tr>\n",
       "    <tr>\n",
       "      <th>19</th>\n",
       "      <td>PAY_AMT1</td>\n",
       "      <td>[4902.0 ~ inf)</td>\n",
       "      <td>42.70</td>\n",
       "    </tr>\n",
       "    <tr>\n",
       "      <th>20</th>\n",
       "      <td>PAY_AMT4</td>\n",
       "      <td>[-inf ~ 1.0)</td>\n",
       "      <td>22.23</td>\n",
       "    </tr>\n",
       "    <tr>\n",
       "      <th>21</th>\n",
       "      <td>PAY_AMT4</td>\n",
       "      <td>[1.0 ~ 1506.0)</td>\n",
       "      <td>27.31</td>\n",
       "    </tr>\n",
       "    <tr>\n",
       "      <th>22</th>\n",
       "      <td>PAY_AMT4</td>\n",
       "      <td>[1506.0 ~ 3946.0)</td>\n",
       "      <td>29.40</td>\n",
       "    </tr>\n",
       "    <tr>\n",
       "      <th>23</th>\n",
       "      <td>PAY_AMT4</td>\n",
       "      <td>[3946.0 ~ inf)</td>\n",
       "      <td>33.87</td>\n",
       "    </tr>\n",
       "    <tr>\n",
       "      <th>24</th>\n",
       "      <td>BILL_AMT2</td>\n",
       "      <td>[-inf ~ 2400.0)</td>\n",
       "      <td>27.65</td>\n",
       "    </tr>\n",
       "    <tr>\n",
       "      <th>25</th>\n",
       "      <td>BILL_AMT2</td>\n",
       "      <td>[2400.0 ~ 8287.0)</td>\n",
       "      <td>24.80</td>\n",
       "    </tr>\n",
       "    <tr>\n",
       "      <th>26</th>\n",
       "      <td>BILL_AMT2</td>\n",
       "      <td>[8287.0 ~ 35213.0)</td>\n",
       "      <td>35.81</td>\n",
       "    </tr>\n",
       "    <tr>\n",
       "      <th>27</th>\n",
       "      <td>BILL_AMT2</td>\n",
       "      <td>[35213.0 ~ inf)</td>\n",
       "      <td>23.66</td>\n",
       "    </tr>\n",
       "    <tr>\n",
       "      <th>28</th>\n",
       "      <td>PAY_AMT6</td>\n",
       "      <td>[-inf ~ 28.0)</td>\n",
       "      <td>20.84</td>\n",
       "    </tr>\n",
       "    <tr>\n",
       "      <th>29</th>\n",
       "      <td>PAY_AMT6</td>\n",
       "      <td>[28.0 ~ 480.0)</td>\n",
       "      <td>27.67</td>\n",
       "    </tr>\n",
       "  </tbody>\n",
       "</table>\n",
       "</div>"
      ],
      "text/plain": [
       "     variable              binning  score\n",
       "0   EDUCATION           [-inf ~ 2)  29.66\n",
       "1   EDUCATION            [2 ~ inf)  27.20\n",
       "2   BILL_AMT4      [-inf ~ 2501.0)  28.21\n",
       "3   BILL_AMT4       [2501.0 ~ inf)  27.97\n",
       "4   BILL_AMT6     [-inf ~ 19195.0)  27.33\n",
       "5   BILL_AMT6  [19195.0 ~ 50442.0)  31.37\n",
       "6   BILL_AMT6      [50442.0 ~ inf)  26.23\n",
       "7   BILL_AMT5      [-inf ~ 2395.0)  28.16\n",
       "8   BILL_AMT5    [2395.0 ~ 8110.0)  32.85\n",
       "9   BILL_AMT5   [8110.0 ~ 35288.0)  25.20\n",
       "10  BILL_AMT5      [35288.0 ~ inf)  29.41\n",
       "11  BILL_AMT1      [-inf ~ 2501.0)  25.09\n",
       "12  BILL_AMT1       [2501.0 ~ inf)  28.87\n",
       "13   PAY_AMT5         [-inf ~ 1.0)  23.01\n",
       "14   PAY_AMT5       [1.0 ~ 1880.0)  26.88\n",
       "15   PAY_AMT5   [1880.0 ~ 10000.0)  30.60\n",
       "16   PAY_AMT5      [10000.0 ~ inf)  37.59\n",
       "17   PAY_AMT1         [-inf ~ 6.0)  11.44\n",
       "18   PAY_AMT1       [6.0 ~ 4902.0)  28.26\n",
       "19   PAY_AMT1       [4902.0 ~ inf)  42.70\n",
       "20   PAY_AMT4         [-inf ~ 1.0)  22.23\n",
       "21   PAY_AMT4       [1.0 ~ 1506.0)  27.31\n",
       "22   PAY_AMT4    [1506.0 ~ 3946.0)  29.40\n",
       "23   PAY_AMT4       [3946.0 ~ inf)  33.87\n",
       "24  BILL_AMT2      [-inf ~ 2400.0)  27.65\n",
       "25  BILL_AMT2    [2400.0 ~ 8287.0)  24.80\n",
       "26  BILL_AMT2   [8287.0 ~ 35213.0)  35.81\n",
       "27  BILL_AMT2      [35213.0 ~ inf)  23.66\n",
       "28   PAY_AMT6        [-inf ~ 28.0)  20.84\n",
       "29   PAY_AMT6       [28.0 ~ 480.0)  27.67"
      ]
     },
     "execution_count": 95,
     "metadata": {},
     "output_type": "execute_result"
    }
   ],
   "source": [
    "#transform the scorecard into dataframe and save to csv\n",
    "keys = list(card.export().keys())\n",
    "score_card_df = pd.DataFrame()\n",
    "for n in keys:\n",
    "    temp = pd.DataFrame.from_dict(final_card_score[n], orient='index')\n",
    "    temp = temp.reset_index()\n",
    "    temp.columns= ['binning','score']\n",
    "    temp['variable'] = n\n",
    "    temp = temp[['variable','binning','score']]\n",
    "    score_card_df = pd.concat([score_card_df, temp], ignore_index=True)\n",
    "score_card_df.head(30)"
   ]
  },
  {
   "cell_type": "code",
   "execution_count": 96,
   "id": "f21e15b4-3d5c-4442-85ba-648ccc947f4b",
   "metadata": {},
   "outputs": [],
   "source": [
    "#save 6: save the scorcard\n",
    "score_card_df.to_csv('CreditScore_save6_score_card_df.csv',index=False)"
   ]
  },
  {
   "cell_type": "markdown",
   "id": "51254d82-55a8-4632-aeb4-a6b0b538f0f2",
   "metadata": {},
   "source": [
    "# 9. Distribution Analysis"
   ]
  },
  {
   "cell_type": "code",
   "execution_count": 97,
   "id": "7fb9ab5d-853a-4c6b-85e1-399e9bf27a52",
   "metadata": {},
   "outputs": [
    {
     "data": {
      "image/png": "[encoded data removed]",
      "text/plain": [
       "<Figure size 1200x1000 with 1 Axes>"
      ]
     },
     "metadata": {},
     "output_type": "display_data"
    }
   ],
   "source": [
    "plt.figure(figsize=(12,10))\n",
    "import random\n",
    "import numpy\n",
    "from matplotlib import pyplot as plt\n",
    "\n",
    "w = 40\n",
    "n = math.ceil((data['CreditScore'].max() - data['CreditScore'].min())/w)\n",
    "#bins = numpy.linspace(-10, 10, 100)\n",
    "\n",
    "plt.hist(data[data.label==1].CreditScore, alpha=0.5, label='Black',bins = n)\n",
    "plt.hist(data[data.label==0].CreditScore, alpha=0.5, label='White',bins = n)\n",
    "plt.legend(loc='upper left')\n",
    "plt.title('Credit Score Distribution: Test Set',size=15)\n",
    "plt.show()"
   ]
  },
  {
   "cell_type": "code",
   "execution_count": 98,
   "id": "eb46e9de-71b9-44de-8214-35e3c9dd1af7",
   "metadata": {},
   "outputs": [
    {
     "data": {
      "image/png": "[encoded data removed]",
      "text/plain": [
       "<Figure size 1200x1000 with 1 Axes>"
      ]
     },
     "metadata": {},
     "output_type": "display_data"
    }
   ],
   "source": [
    "plt.figure(figsize=(12,10))\n",
    "import random\n",
    "import numpy\n",
    "from matplotlib import pyplot as plt\n",
    "\n",
    "w = 40\n",
    "n = math.ceil((test['CreditScore'].max() - test['CreditScore'].min())/w)\n",
    "#bins = numpy.linspace(-10, 10, 100)\n",
    "\n",
    "plt.hist(test[test.label==1].CreditScore, alpha=0.5, label='Black',bins = n)\n",
    "plt.hist(test[test.label==0].CreditScore, alpha=0.5, label='White',bins = n)\n",
    "plt.legend(loc='upper left')\n",
    "plt.title('Credit Score Distribution: Whole Dataset',size=15)\n",
    "plt.show()"
   ]
  },
  {
   "cell_type": "markdown",
   "id": "dae7761f-ac13-42ed-be66-31c59e57bb3e",
   "metadata": {},
   "source": [
    "# 10. Threshold Tuning"
   ]
  },
  {
   "cell_type": "code",
   "execution_count": 99,
   "id": "a5be65c9-7dfe-4802-9eae-820854e946c3",
   "metadata": {},
   "outputs": [],
   "source": [
    "def get_credit_level(\n",
    "    test,\n",
    "    target_score ='order_score',\n",
    "    out_col = 'order_level',\n",
    "    left_bound = -100,\n",
    "    level_0 = 100,\n",
    "    level_1 = 200,    \n",
    "    level_2 = 250,    \n",
    "    level_3 = 300,    \n",
    "    level_4 = 350,    \n",
    "    level_5 = 400,    \n",
    "    level_6 = 450,\n",
    "    level_7 = 500,\n",
    "    level_8 = 800):\n",
    "    level = []\n",
    "    for i in range(len(test)):\n",
    "        if (test[target_score][i]>left_bound) & (test[target_score][i]<=level_0):\n",
    "            level.append(0)\n",
    "        elif  (test[target_score][i]>level_0) & (test[target_score][i]<=level_1):\n",
    "            level.append(1)\n",
    "        elif  (test[target_score][i]>level_1) & (test[target_score][i]<=level_2):\n",
    "            level.append(2)\n",
    "        elif  (test[target_score][i]>level_2) & (test[target_score][i]<=level_3):\n",
    "            level.append(3)\n",
    "        elif  (test[target_score][i]>level_3) & (test[target_score][i]<=level_4):\n",
    "            level.append(4)\n",
    "        elif  (test[target_score][i]>level_4) & (test[target_score][i]<=level_5):\n",
    "            level.append(5)\n",
    "        elif  (test[target_score][i]>level_5) & (test[target_score][i]<=level_6):\n",
    "            level.append(6)\n",
    "        elif  (test[target_score][i]>level_6) & (test[target_score][i]<=level_7):\n",
    "            level.append(7)\n",
    "        elif  (test[target_score][i]>level_7 )& (test[target_score][i]<=level_8):\n",
    "            level.append(8)\n",
    "        \n",
    "    test[out_col] = level\n",
    "    return test\n",
    "\n",
    "def plot_bts_level_loss(test, target_col):\n",
    "    bts_level_df = test[target_col].value_counts()\n",
    "    bts_level_df=pd.DataFrame(bts_level_df)\n",
    "    df_label_level= test[test.label==1].groupby(target_col)['label'].count()/ test.groupby(target_col)['label'].count()\n",
    "    df_label_level = pd.DataFrame(df_label_level)\n",
    "    bts_level_df.sort_index().plot.bar(title='')\n",
    "    df_label_level.plot()"
   ]
  },
  {
   "cell_type": "code",
   "execution_count": 100,
   "id": "6c4639c0-be92-414a-aced-ccf6959d50f7",
   "metadata": {},
   "outputs": [
    {
     "data": {
      "text/plain": [
       "count    7501.000000\n",
       "mean      627.437143\n",
       "std       113.055983\n",
       "min       173.540655\n",
       "25%       596.974091\n",
       "50%       659.897345\n",
       "75%       702.107780\n",
       "max       810.644058\n",
       "Name: CreditScore, dtype: float64"
      ]
     },
     "execution_count": 100,
     "metadata": {},
     "output_type": "execute_result"
    }
   ],
   "source": [
    "test.CreditScore.describe()"
   ]
  },
  {
   "cell_type": "code",
   "execution_count": 102,
   "id": "953dcb71-7ff2-4162-8bf3-a870c2ff3ae9",
   "metadata": {},
   "outputs": [],
   "source": [
    "# Threshold Tuning & Trade-off between loss & coverage -\n",
    "\n",
    "test = get_credit_level(test,\n",
    "                       target_score ='CreditScore',\n",
    "                       out_col = 'CreditScore_level',\n",
    "                      left_bound = -1000,\n",
    "    level_0 = 250,\n",
    "    level_1 = 300,    \n",
    "    level_2 = 400,    \n",
    "    level_3 = 500,    \n",
    "    level_4 = 580,    \n",
    "    level_5 = 630,    \n",
    "    level_6 = 690,\n",
    "    level_7 = 730,\n",
    "    level_8 = 1000\n",
    "                )"
   ]
  },
  {
   "cell_type": "code",
   "execution_count": 104,
   "id": "67e67db0-4ef7-45c3-a8f0-4f3935407c5d",
   "metadata": {},
   "outputs": [
    {
     "data": {
      "image/png": "[encoded data removed]",
      "text/plain": [
       "<Figure size 640x480 with 1 Axes>"
      ]
     },
     "metadata": {},
     "output_type": "display_data"
    },
    {
     "data": {
      "image/png": "[encoded data removed]",
      "text/plain": [
       "<Figure size 640x480 with 1 Axes>"
      ]
     },
     "metadata": {},
     "output_type": "display_data"
    }
   ],
   "source": [
    "plot_bts_level_loss(test,target_col='CreditScore_level')"
   ]
  },
  {
   "cell_type": "code",
   "execution_count": 105,
   "id": "874687a8-ae29-49c5-8128-d42e9682ff46",
   "metadata": {},
   "outputs": [
    {
     "data": {
      "text/plain": [
       "120"
      ]
     },
     "execution_count": 105,
     "metadata": {},
     "output_type": "execute_result"
    }
   ],
   "source": [
    "sum(test[test.label==1].CreditScore_level==7)"
   ]
  },
  {
   "cell_type": "code",
   "execution_count": 106,
   "id": "c1cd3e6a-9ec3-497e-8252-4354a916258a",
   "metadata": {},
   "outputs": [],
   "source": [
    "def get_loss_coverage(test,target_level):\n",
    "    \n",
    "    #level 8 Loss\n",
    "    L8_loss=test[test[target_level]>=8 ].label.value_counts()/len(test[test[target_level]>=8 ])\n",
    "    #level 8 Coverage\n",
    "    L8_coverage=test[test[target_level]>=8].label.value_counts()[0]/test[test.label==0].shape[0]\n",
    "    print(\"Level 8: Loss is \",L8_loss[1], \"; Coverage is \",L8_coverage)\n",
    "    \n",
    "    #level 7-level 8 Loss\n",
    "    L7_loss=test[test[target_level]>=7 ].label.value_counts()/len(test[test[target_level]>=7 ])\n",
    "    #level 7-level 8 Coverage\n",
    "    L7_coverage=test[test[target_level]>=7].label.value_counts()[0]/test[test.label==0].shape[0]\n",
    "    print(\"Level 7-Level 8: Loss is \",L7_loss[1], \"; Coverage is \",L7_coverage)\n",
    "    \n",
    "    #level 6-level 8 Loss\n",
    "    L6_loss=test[test[target_level]>=6 ].label.value_counts()/len(test[test[target_level]>=6 ])\n",
    "    #level 6-level 8 Coverage\n",
    "    L6_coverage=test[test[target_level]>=6].label.value_counts()[0]/test[test.label==0].shape[0]\n",
    "    print(\"Level 6-Level 8: Loss is \",L6_loss[1], \"; Coverage is \",L6_coverage)\n",
    "    \n",
    "     #level 5-Leve 8 Loss (percentage of default people)\n",
    "    L5_loss = test[test[target_level]>=5 ].label.value_counts()/len(test[test[target_level]>=5 ])\n",
    "    #level 5- level 8 Coverage (percentage of good people)\n",
    "    L5_coverage=test[test[target_level]>=5 ].label.value_counts()[0]/test[test.label==0].shape[0]\n",
    "    print(\"Level 5-Level 8: Loss is \",L5_loss[1], \"; Coverage is \",L5_coverage)\n",
    "    \n",
    "    #level 4-level 8 Loss\n",
    "    L4_loss=test[test[target_level]>=4 ].label.value_counts()/len(test[test[target_level]>=4 ])\n",
    "    #level 4-level 8 Coverage\n",
    "    L4_coverage=test[test[target_level]>=4].label.value_counts()[0]/test[test.label==0].shape[0]\n",
    "    print(\"Level 4-Level 8: Loss is \",L4_loss[1], \"; Coverage is \",L4_coverage)\n",
    "    \n",
    "    \n",
    "    #level 3-level 8 Loss\n",
    "    L3_loss=test[test[target_level]>=3].label.value_counts()/len(test[test[target_level]>=3 ])\n",
    "    #level 3-level 8 Coverage\n",
    "    L3_coverage=test[test[target_level]>=3].label.value_counts()[0]/test[test.label==0].shape[0]\n",
    "    print(\"Level 3-Level 8: Loss is \",L3_loss[1], \"; Coverage is \",L3_coverage)\n",
    "    \n",
    "    #level 2-level 8 Loss\n",
    "    L2_loss=test[test[target_level]>=2].label.value_counts()/len(test[test[target_level]>=2 ])\n",
    "    #level 2-level 8 Coverage\n",
    "    L2_coverage=test[test[target_level]>=2].label.value_counts()[0]/test[test.label==0].shape[0]\n",
    "    print(\"Level 2-Level 8: Loss is \",L2_loss[1], \"; Coverage is \",L2_coverage)\n",
    "    \n",
    "    #level 1-level 8 Loss\n",
    "    L1_loss=test[test[target_level]>=1].label.value_counts()/len(test[test[target_level]>=1 ])\n",
    "    #level 1-level 8 Coverage\n",
    "    L1_coverage=test[test[target_level]>=1].label.value_counts()[0]/test[test.label==0].shape[0]\n",
    "    print(\"Level 1-Level 8: Loss is \",L1_loss[1], \"; Coverage is \",L1_coverage)\n",
    "    \n",
    "    #level 0-level 8 Loss\n",
    "    L0_loss=test[test[target_level]>=0].label.value_counts()/len(test[test[target_level]>=0 ])\n",
    "    #level 0-level 8 Coverage\n",
    "    L0_coverage=test[test[target_level]>=0].label.value_counts()[0]/test[test.label==0].shape[0]\n",
    "    print(\"Level 0-Level 8: Loss is \",L0_loss[1], \"; Coverage is \",L0_coverage)"
   ]
  },
  {
   "cell_type": "code",
   "execution_count": 107,
   "id": "b66de091-5ec4-425d-96e8-5cb3c2e4b3b6",
   "metadata": {},
   "outputs": [
    {
     "name": "stdout",
     "output_type": "stream",
     "text": [
      "Level 8: Loss is  0.04271356783919598 ; Coverage is  0.12800268772047707\n",
      "Level 7-Level 8: Loss is  0.0650887573964497 ; Coverage is  0.3715773559549807\n",
      "Level 6-Level 8: Loss is  0.10143753796315043 ; Coverage is  0.745506467327398\n",
      "Level 5-Level 8: Loss is  0.1204323211528564 ; Coverage is  0.8612464303712414\n",
      "Level 4-Level 8: Loss is  0.13876040703052728 ; Coverage is  0.938350411557198\n",
      "Level 3-Level 8: Loss is  0.1684751570531125 ; Coverage is  0.97833025365362\n",
      "Level 2-Level 8: Loss is  0.19373723621511232 ; Coverage is  0.9947925415756761\n",
      "Level 1-Level 8: Loss is  0.20193340494092374 ; Coverage is  0.9984881572316479\n",
      "Level 0-Level 8: Loss is  0.20637248366884414 ; Coverage is  1.0\n"
     ]
    }
   ],
   "source": [
    "get_loss_coverage(test,target_level='CreditScore_level')"
   ]
  },
  {
   "cell_type": "code",
   "execution_count": 108,
   "id": "10d2a219-dedd-4a69-a669-148269988684",
   "metadata": {},
   "outputs": [],
   "source": [
    "#save 7: save the scorcard\n",
    "data.to_csv('OrderScore_save7_whole_data.csv',index=False)"
   ]
  },
  {
   "cell_type": "code",
   "execution_count": 109,
   "id": "c433ffc6-0961-40d5-a903-4fdd01a520ae",
   "metadata": {},
   "outputs": [
    {
     "data": {
      "text/plain": [
       "ID                    22500.000000\n",
       "LIMIT_BAL            420000.000000\n",
       "SEX                       2.000000\n",
       "EDUCATION                 2.000000\n",
       "MARRIAGE                  1.000000\n",
       "AGE                      37.000000\n",
       "PAY_0                     0.000000\n",
       "PAY_2                     0.000000\n",
       "PAY_3                     0.000000\n",
       "PAY_4                    -1.000000\n",
       "PAY_5                     0.000000\n",
       "PAY_6                     0.000000\n",
       "BILL_AMT1             36032.000000\n",
       "BILL_AMT2             41932.000000\n",
       "BILL_AMT3              9778.000000\n",
       "BILL_AMT4            158901.000000\n",
       "BILL_AMT5            161876.000000\n",
       "BILL_AMT6            165378.000000\n",
       "PAY_AMT1               7022.000000\n",
       "PAY_AMT2               1846.000000\n",
       "PAY_AMT3             163862.000000\n",
       "PAY_AMT4               6000.000000\n",
       "PAY_AMT5               6000.000000\n",
       "PAY_AMT6               6000.000000\n",
       "label                     0.000000\n",
       "CreditScore             751.330191\n",
       "CreditScore_level         8.000000\n",
       "Name: 0, dtype: float64"
      ]
     },
     "execution_count": 109,
     "metadata": {},
     "output_type": "execute_result"
    }
   ],
   "source": [
    "test.loc[0,:]"
   ]
  },
  {
   "cell_type": "code",
   "execution_count": 110,
   "id": "1b5e176f-cff8-42c4-9793-1521b7ba88a9",
   "metadata": {},
   "outputs": [
    {
     "data": {
      "text/plain": [
       "751.3301912696865"
      ]
     },
     "execution_count": 110,
     "metadata": {},
     "output_type": "execute_result"
    }
   ],
   "source": [
    "card.predict(test)[0]"
   ]
  },
  {
   "cell_type": "code",
   "execution_count": null,
   "id": "f0bff7ee-dea7-4795-9e81-95fcad6a495b",
   "metadata": {},
   "outputs": [],
   "source": []
  }
 ],
 "metadata": {
  "kernelspec": {
   "display_name": "Python 3 (ipykernel)",
   "language": "python",
   "name": "python3"
  },
  "language_info": {
   "codemirror_mode": {
    "name": "ipython",
    "version": 3
   },
   "file_extension": ".py",
   "mimetype": "text/x-python",
   "name": "python",
   "nbconvert_exporter": "python",
   "pygments_lexer": "ipython3",
   "version": "3.11.8"
  }
 },
 "nbformat": 4,
 "nbformat_minor": 5
}
